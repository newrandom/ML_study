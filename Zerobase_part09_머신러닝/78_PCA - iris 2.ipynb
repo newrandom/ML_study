{
 "cells": [
  {
   "cell_type": "markdown",
   "metadata": {},
   "source": [
    "# 78_PCA - iris 2"
   ]
  },
  {
   "cell_type": "code",
   "execution_count": 30,
   "metadata": {},
   "outputs": [],
   "source": [
    "import pandas as pd\n",
    "from sklearn.datasets import load_iris\n",
    "import seaborn as sns\n",
    "import numpy as np\n",
    "\n",
    "iris = load_iris()\n",
    "\n",
    "iris_pd = pd.DataFrame(data = iris.data, columns = iris.feature_names)\n",
    "iris_pd['species'] = iris.target\n",
    "# iris_pd.head()"
   ]
  },
  {
   "cell_type": "markdown",
   "metadata": {},
   "source": [
    "## StandardScaler 와 PCA 를 묶어서 기억하기"
   ]
  },
  {
   "cell_type": "code",
   "execution_count": 31,
   "metadata": {},
   "outputs": [],
   "source": [
    "from sklearn.preprocessing import StandardScaler\n",
    "\n",
    "iris_ss = StandardScaler().fit_transform(iris.data)\n",
    "# iris_ss[:3]"
   ]
  },
  {
   "cell_type": "code",
   "execution_count": 32,
   "metadata": {},
   "outputs": [],
   "source": [
    "from sklearn.decomposition import PCA\n",
    "\n",
    "def get_pca_data(ss_data, n_components = 2):\n",
    "                # StandardScale 된 데이터\n",
    "                            # 주성분 개수!\n",
    "    pca = PCA(n_components=n_components)\n",
    "    pca.fit(ss_data)\n",
    "    \n",
    "    return pca.transform(ss_data), pca"
   ]
  },
  {
   "cell_type": "code",
   "execution_count": 33,
   "metadata": {},
   "outputs": [],
   "source": [
    "iris_pca, pca = get_pca_data(iris_ss, 2)        # -> pca.transform(ss_data), pca"
   ]
  },
  {
   "cell_type": "code",
   "execution_count": 34,
   "metadata": {},
   "outputs": [
    {
     "name": "stdout",
     "output_type": "stream",
     "text": [
      "pca.mean_ [-1.69031455e-15 -1.84297022e-15 -1.69864123e-15 -1.40924309e-15]\n",
      "pca.components_ [[ 0.52106591 -0.26934744  0.5804131   0.56485654]\n",
      " [ 0.37741762  0.92329566  0.02449161  0.06694199]]\n",
      "pca.explained_variance_ratio_ [0.72962445 0.22850762]\n"
     ]
    }
   ],
   "source": [
    "# PCA (주성분분석) 의 평균, components, 비율\n",
    "print('pca.mean_', pca.mean_)\n",
    "print('pca.components_', pca.components_)\n",
    "print('pca.explained_variance_ratio_',pca.explained_variance_ratio_)"
   ]
  },
  {
   "cell_type": "code",
   "execution_count": 35,
   "metadata": {},
   "outputs": [],
   "source": [
    "# pca.transform(ss_data) 를 Pandas의 DataFrame으로\n",
    "\n",
    "def get_pd_from_pca(pca_data, cols=['PC1', 'PC2']):\n",
    "    return pd.DataFrame(pca_data, columns=cols)"
   ]
  },
  {
   "cell_type": "code",
   "execution_count": 36,
   "metadata": {},
   "outputs": [
    {
     "data": {
      "text/html": [
       "<div>\n",
       "<style scoped>\n",
       "    .dataframe tbody tr th:only-of-type {\n",
       "        vertical-align: middle;\n",
       "    }\n",
       "\n",
       "    .dataframe tbody tr th {\n",
       "        vertical-align: top;\n",
       "    }\n",
       "\n",
       "    .dataframe thead th {\n",
       "        text-align: right;\n",
       "    }\n",
       "</style>\n",
       "<table border=\"1\" class=\"dataframe\">\n",
       "  <thead>\n",
       "    <tr style=\"text-align: right;\">\n",
       "      <th></th>\n",
       "      <th>PC1</th>\n",
       "      <th>PC2</th>\n",
       "      <th>species</th>\n",
       "    </tr>\n",
       "  </thead>\n",
       "  <tbody>\n",
       "    <tr>\n",
       "      <th>0</th>\n",
       "      <td>-2.264703</td>\n",
       "      <td>0.480027</td>\n",
       "      <td>0</td>\n",
       "    </tr>\n",
       "    <tr>\n",
       "      <th>1</th>\n",
       "      <td>-2.080961</td>\n",
       "      <td>-0.674134</td>\n",
       "      <td>0</td>\n",
       "    </tr>\n",
       "    <tr>\n",
       "      <th>2</th>\n",
       "      <td>-2.364229</td>\n",
       "      <td>-0.341908</td>\n",
       "      <td>0</td>\n",
       "    </tr>\n",
       "    <tr>\n",
       "      <th>3</th>\n",
       "      <td>-2.299384</td>\n",
       "      <td>-0.597395</td>\n",
       "      <td>0</td>\n",
       "    </tr>\n",
       "    <tr>\n",
       "      <th>4</th>\n",
       "      <td>-2.389842</td>\n",
       "      <td>0.646835</td>\n",
       "      <td>0</td>\n",
       "    </tr>\n",
       "  </tbody>\n",
       "</table>\n",
       "</div>"
      ],
      "text/plain": [
       "        PC1       PC2  species\n",
       "0 -2.264703  0.480027        0\n",
       "1 -2.080961 -0.674134        0\n",
       "2 -2.364229 -0.341908        0\n",
       "3 -2.299384 -0.597395        0\n",
       "4 -2.389842  0.646835        0"
      ]
     },
     "execution_count": 36,
     "metadata": {},
     "output_type": "execute_result"
    }
   ],
   "source": [
    "iris_pd_pca = get_pd_from_pca(iris_pca)\n",
    "iris_pd_pca['species'] = iris.target\n",
    "iris_pd_pca.head()"
   ]
  },
  {
   "cell_type": "markdown",
   "metadata": {},
   "source": [
    "# Ensemble (앙상블) - RandomForest 이용하기"
   ]
  },
  {
   "cell_type": "code",
   "execution_count": 37,
   "metadata": {},
   "outputs": [],
   "source": [
    "from sklearn.ensemble import RandomForestClassifier\n",
    "from sklearn.model_selection import cross_val_score"
   ]
  },
  {
   "cell_type": "code",
   "execution_count": 38,
   "metadata": {},
   "outputs": [],
   "source": [
    "def rf_scores(X, y, cv=5):\n",
    "    rf = RandomForestClassifier(random_state=13, n_estimators= 100)     # A random forest is a meta estimator\n",
    "                                # random_stats : 무작위 선정의 케이스를 고정, 가장 좋은(?) 결과물을 나타내기 위해 조정하는 것.\n",
    "                                                    # n_estimators = : 나무의 갯수 , 기본은 100개\n",
    "    \n",
    "    scores_rf = cross_val_score(rf, X, y, scoring='accuracy', cv=cv)    # -> scores를 반환\n",
    "                                # estimator : estimator object implementing 'fit' // 훈련 모델\n",
    "                                    # X : data to fit // 훈련용 데이터\n",
    "                                        # y : the target variable to try to predict // 타겟\n",
    "                                            # scoring : A str (see model evaluation documentation) or a scorer callable object\n",
    "                                                                # cv : Determines the cross-validation splitting strategy\n",
    "\n",
    "    # print(scores_rf)        # cv 개수에 맞는 결과값을 리스트 형식으로 나타냄.\n",
    "    print('Score :', np.mean(scores_rf))        # scores_rf 의 결과값 5개의 평균(np.mean)을 출력함.\n",
    "    "
   ]
  },
  {
   "cell_type": "code",
   "execution_count": 39,
   "metadata": {},
   "outputs": [
    {
     "name": "stdout",
     "output_type": "stream",
     "text": [
      "Score : 0.96\n",
      "CPU times: user 345 ms, sys: 6.83 ms, total: 352 ms\n",
      "Wall time: 353 ms\n"
     ]
    }
   ],
   "source": [
    "%%time\n",
    "rf_scores(iris_ss, iris.target)"
   ]
  },
  {
   "cell_type": "code",
   "execution_count": 40,
   "metadata": {},
   "outputs": [
    {
     "name": "stdout",
     "output_type": "stream",
     "text": [
      "Score : 0.9066666666666666\n",
      "CPU times: user 340 ms, sys: 6.11 ms, total: 346 ms\n",
      "Wall time: 347 ms\n"
     ]
    }
   ],
   "source": [
    "%%time\n",
    "pca_X = iris_pd_pca[['PC1', 'PC2']]\n",
    "        # iris_pd_pca의 'pc1','pc2' 컬럼을 가져옴.\n",
    "\n",
    "rf_scores(pca_X, iris.target)\n",
    "\n",
    "## accuracy가 조금 떨어졌다."
   ]
  },
  {
   "cell_type": "code",
   "execution_count": null,
   "metadata": {},
   "outputs": [],
   "source": []
  }
 ],
 "metadata": {
  "interpreter": {
   "hash": "87ca1d6ab9f465f53e65f605edcd7bd5e587820eac99c13303a6570f5c29f59a"
  },
  "kernelspec": {
   "display_name": "Python 3.8.11 ('ds_study')",
   "language": "python",
   "name": "python3"
  },
  "language_info": {
   "codemirror_mode": {
    "name": "ipython",
    "version": 3
   },
   "file_extension": ".py",
   "mimetype": "text/x-python",
   "name": "python",
   "nbconvert_exporter": "python",
   "pygments_lexer": "ipython3",
   "version": "3.8.11"
  },
  "orig_nbformat": 4
 },
 "nbformat": 4,
 "nbformat_minor": 2
}
