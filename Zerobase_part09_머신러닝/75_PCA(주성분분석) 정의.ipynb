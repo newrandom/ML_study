{
 "cells": [
  {
   "cell_type": "markdown",
   "metadata": {},
   "source": [
    "# 75 . Principal Component Analysis\n",
    "- 각 데이터의 차이를 가장 잘 나타내 주는 요소를 찾는 것\n",
    "- 주성분분석, 차원축소나 변수추출에 사용된다.\n",
    "- 변수 선택과는 다르다 (HAR을 다룰 때, 많은 피쳐 중에서 영향력이 높은 20개만 뽑아서 쓰는 것이 변수선택)\n",
    "- PCA는 분산을 최대한 보존하면서 새로운 feature를 찾는 것. // 변수 추출이라고도 한다."
   ]
  },
  {
   "cell_type": "markdown",
   "metadata": {
    "vscode": {
     "languageId": "plaintext"
    }
   },
   "source": [
    "- 백터를 이용해서 데이터를 다시 표현\n",
    "- 예를 들면 3차원에서 2차원으로 옮겨놓음 // 새로운 축으로 표현하는 것.\n",
    "- 차원이 많은 경우 간단하게 표현해 볼 수 있다."
   ]
  }
 ],
 "metadata": {
  "language_info": {
   "name": "python"
  },
  "orig_nbformat": 4
 },
 "nbformat": 4,
 "nbformat_minor": 2
}
