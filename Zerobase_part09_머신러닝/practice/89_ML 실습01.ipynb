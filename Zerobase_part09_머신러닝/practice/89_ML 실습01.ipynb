{
 "cells": [
  {
   "cell_type": "markdown",
   "metadata": {},
   "source": [
    "# ML 실습 01"
   ]
  },
  {
   "cell_type": "markdown",
   "metadata": {},
   "source": [
    "## 추천시스템"
   ]
  },
  {
   "cell_type": "markdown",
   "metadata": {},
   "source": [
    "> ### * 컨텐츠 기반 `필터링` 추천 시스템\n",
    "> - 사용자가 특정한 아이템을 선호하는 경우, 그 아이템과 비슷한 아이템을 추천하는 방식\n",
    "\n",
    "![](/Users/newrandom/Documents/GitHub/ML_study/Zerobase_part09_머신러닝/Lecture_image/89_image_1.png)"
   ]
  },
  {
   "cell_type": "markdown",
   "metadata": {},
   "source": [
    "> ### * 최근접 이웃 협업 필터링\n",
    "> - 축적된 사용자 행동 데이터를 기반으로 사용자가 아직 평가하지 않은 아이템을 예측 평가\n",
    "> - `사용자기반` : 당신과 비슷한 고객들이 다음 상품도 구매하였다.\n",
    "> - `아이템기반` : 이 상품을 선택한 다른 고객들은 다음 상품도 구매했다. // ex. `쿠팡`\n",
    "\n",
    "![](/Users/newrandom/Documents/GitHub/ML_study/Zerobase_part09_머신러닝/Lecture_image/89_image_2.png)"
   ]
  },
  {
   "cell_type": "markdown",
   "metadata": {},
   "source": [
    "## 일반적으로 사용자 기반보다는 `아이템 기반 협업 필터링이 정확도가 더 높다.`\n",
    "- 비슷한 영화를 좋아한다고 취향이 비슷하다고 판단하기 어렵거나\n",
    "- 매우 유명한 영화는 취향과 관계없이 관람하는 경우가 많고,\n",
    "- 사용자들이 평점을 매기지 않는 경우가 많기 때문이다."
   ]
  },
  {
   "cell_type": "markdown",
   "metadata": {},
   "source": [
    "> ### * 잠재 요인 협업 필터링\n",
    "> - 사용자-아이템 평점 행렬 데이터를 이용해서 '잠재요인'을 도출하는 것\n",
    "> - 주 요인과 아이템에 대한 잠재요인에 대해 행렬 분해를 하고\n",
    "> - 다시 행렬 곱을 통해 아직 평점을 부여하지 않은 아이템에 대한 예측 평점을 생성하는 것.\n",
    "\n",
    "![](/Users/newrandom/Documents/GitHub/ML_study/Zerobase_part09_머신러닝/Lecture_image/89_image_3.png)"
   ]
  },
  {
   "cell_type": "markdown",
   "metadata": {},
   "source": []
  }
 ],
 "metadata": {
  "interpreter": {
   "hash": "87ca1d6ab9f465f53e65f605edcd7bd5e587820eac99c13303a6570f5c29f59a"
  },
  "kernelspec": {
   "display_name": "Python 3.8.11 ('ds_study')",
   "language": "python",
   "name": "python3"
  },
  "language_info": {
   "codemirror_mode": {
    "name": "ipython",
    "version": 3
   },
   "file_extension": ".py",
   "mimetype": "text/x-python",
   "name": "python",
   "nbconvert_exporter": "python",
   "pygments_lexer": "ipython3",
   "version": "3.8.11"
  },
  "orig_nbformat": 4
 },
 "nbformat": 4,
 "nbformat_minor": 2
}
