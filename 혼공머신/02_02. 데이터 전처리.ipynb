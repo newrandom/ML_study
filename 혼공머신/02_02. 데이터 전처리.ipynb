{
 "cells": [
  {
   "cell_type": "markdown",
   "metadata": {},
   "source": [
    "# 02 - 2. 데이터 전처리\n",
    "- 올바른 결과 도출을 위해 데이터를 사용하기 전에 **데이터 전처리 과정**을 거친다\n",
    "- 전처리 과정을 거친 데이터로 훈련했을때의 차이를 알고\n",
    "- 표준점수로 특성의 스케일을 변환하는 방법을 배우자"
   ]
  },
  {
   "cell_type": "markdown",
   "metadata": {},
   "source": [
    "> 핵심 단어 :\n",
    "> - 데이터 전처리\n",
    "> - 표준점수\n",
    "> - 브로드캐스팅"
   ]
  },
  {
   "cell_type": "markdown",
   "metadata": {},
   "source": [
    "## 넘파이로 데이터 준비하기"
   ]
  },
  {
   "cell_type": "code",
   "execution_count": 1,
   "metadata": {},
   "outputs": [],
   "source": [
    "fish_length = [25.4, 26.3, 26.5, 29.0, 29.0, 29.7, 29.7, 30.0, 30.0, 30.7, 31.0, 31.0, \n",
    "                31.5, 32.0, 32.0, 32.0, 33.0, 33.0, 33.5, 33.5, 34.0, 34.0, 34.5, 35.0, \n",
    "                35.0, 35.0, 35.0, 36.0, 36.0, 37.0, 38.5, 38.5, 39.5, 41.0, 41.0, 9.8, \n",
    "                10.5, 10.6, 11.0, 11.2, 11.3, 11.8, 11.8, 12.0, 12.2, 12.4, 13.0, 14.3, 15.0]\n",
    "fish_weight = [242.0, 290.0, 340.0, 363.0, 430.0, 450.0, 500.0, 390.0, 450.0, 500.0, 475.0, 500.0, \n",
    "                500.0, 340.0, 600.0, 600.0, 700.0, 700.0, 610.0, 650.0, 575.0, 685.0, 620.0, 680.0, \n",
    "                700.0, 725.0, 720.0, 714.0, 850.0, 1000.0, 920.0, 955.0, 925.0, 975.0, 950.0, 6.7, \n",
    "                7.5, 7.0, 9.7, 9.8, 8.7, 10.0, 9.9, 9.8, 12.2, 13.4, 12.2, 19.7, 19.9]"
   ]
  },
  {
   "cell_type": "code",
   "execution_count": 2,
   "metadata": {},
   "outputs": [],
   "source": [
    "# 넘파이 \n",
    "import numpy as np"
   ]
  },
  {
   "cell_type": "code",
   "execution_count": 3,
   "metadata": {},
   "outputs": [
    {
     "data": {
      "text/plain": [
       "array([[1, 4],\n",
       "       [2, 5],\n",
       "       [3, 6]])"
      ]
     },
     "execution_count": 3,
     "metadata": {},
     "output_type": "execute_result"
    }
   ],
   "source": [
    "# column_stack() 함수 (numpy) : 전달받은 리스트를 일렬로 세운다음 차례대로 나란히 연결한다. // 연결할 리스트는 파이썬 *튜플*로 전달한다.\n",
    "np.column_stack(([1,2,3], [4,5,6]))\n",
    "\n",
    "# 3 * 2 의 배열 // 3개의 행, 2개의 열"
   ]
  },
  {
   "cell_type": "code",
   "execution_count": 4,
   "metadata": {},
   "outputs": [
    {
     "name": "stdout",
     "output_type": "stream",
     "text": [
      "[[ 25.4 242. ]\n",
      " [ 26.3 290. ]\n",
      " [ 26.5 340. ]\n",
      " [ 29.  363. ]\n",
      " [ 29.  430. ]]\n"
     ]
    }
   ],
   "source": [
    "# fish_length 와 fish_weight 합치기 ( column_stack())\n",
    "fish_data = np.column_stack((fish_length, fish_weight))\n",
    "print(fish_data[:5])"
   ]
  },
  {
   "cell_type": "code",
   "execution_count": 5,
   "metadata": {},
   "outputs": [
    {
     "name": "stdout",
     "output_type": "stream",
     "text": [
      "[1. 1. 1. 1. 1.]\n",
      "[0. 0. 0.] [1. 1.]\n"
     ]
    }
   ],
   "source": [
    "# np.ones(N) / np.zeros(N) 함수 : 원하는 개수 N 만큼 1 또는 0으로 채워주는 함수\n",
    "print(np.ones(5))\n",
    "print(np.zeros(3), np.ones(2))\n",
    "# print(np.zeros(3)+np.ones(2))       # 불가능"
   ]
  },
  {
   "cell_type": "code",
   "execution_count": 6,
   "metadata": {},
   "outputs": [
    {
     "name": "stdout",
     "output_type": "stream",
     "text": [
      "[0. 0. 0. 1. 1.]\n",
      "[[0. 1.]\n",
      " [0. 1.]\n",
      " [0. 1.]]\n"
     ]
    }
   ],
   "source": [
    "# np.concatenate() : 배열을 연결, column_stack() 과 비슷해 보이지만 다르다.\n",
    "print(np.concatenate((np.zeros(3), np.ones(2))))\n",
    "print(np.column_stack((np.zeros(3), np.ones(3))))\n",
    "# print(np.column_stack((np.zeros(2), np.ones(3))))       # 에러 : array 사이즈가 동일해야 하는데 동일하지 않아 에러를 발생시킴"
   ]
  },
  {
   "cell_type": "code",
   "execution_count": 7,
   "metadata": {},
   "outputs": [
    {
     "name": "stdout",
     "output_type": "stream",
     "text": [
      "[1. 1. 1. 1. 1. 1. 1. 1. 1. 1. 1. 1. 1. 1. 1. 1. 1. 1. 1. 1. 1. 1. 1. 1.\n",
      " 1. 1. 1. 1. 1. 1. 1. 1. 1. 1. 1. 0. 0. 0. 0. 0. 0. 0. 0. 0. 0. 0. 0. 0.\n",
      " 0.]\n"
     ]
    }
   ],
   "source": [
    "# 1이 35개, 0이 14개인 배열 만들기\n",
    "fish_target = np.concatenate((np.ones(35), np.zeros(14)))\n",
    "print(fish_target)"
   ]
  },
  {
   "cell_type": "markdown",
   "metadata": {},
   "source": [
    "> # 데이터가 클수록 파이썬 리스트는 비효율적이므로, \n",
    "> # **넘파이 배열**을 사용하는것이 좋다."
   ]
  },
  {
   "cell_type": "markdown",
   "metadata": {},
   "source": [
    "# 사이킷런으로 훈련세트와 테스트 세트 나누기"
   ]
  },
  {
   "cell_type": "markdown",
   "metadata": {},
   "source": [
    "> # train_test_split() 함수\n",
    ">> 사이킷런의 model_selection 모듈 아래에 있다."
   ]
  },
  {
   "cell_type": "code",
   "execution_count": 8,
   "metadata": {},
   "outputs": [],
   "source": [
    "from sklearn.model_selection import train_test_split"
   ]
  },
  {
   "cell_type": "code",
   "execution_count": 9,
   "metadata": {},
   "outputs": [],
   "source": [
    "train_input, test_input, train_target, test_target = train_test_split(fish_data, fish_target, random_state=42)      # random_state : 랜덤 시드를 지정할 수 있음\n",
    "\n",
    "# 훈련용 인풋, 테스트용 인풋, 훈련용 타겟, 테스트용 타겟 << 원본 데이터와 원본 타겟을 42라는 랜덤 시드를 통해 나눈다\n",
    "# 이 함수는 기본적으로 25%를 테스트 세트로 떼어낸다 (1/4)"
   ]
  },
  {
   "cell_type": "code",
   "execution_count": 10,
   "metadata": {},
   "outputs": [
    {
     "name": "stdout",
     "output_type": "stream",
     "text": [
      "(36, 2) (13, 2)\n",
      "(36,) (13,)\n"
     ]
    }
   ],
   "source": [
    "# shape 속성 확인하기\n",
    "print(train_input.shape, test_input.shape)          # 트레인 데이터는 2차원 배열이다.\n",
    "print(train_target.shape, test_target.shape)        # 타깃 데이터는 1차원 배열이다."
   ]
  },
  {
   "cell_type": "code",
   "execution_count": 11,
   "metadata": {},
   "outputs": [
    {
     "name": "stdout",
     "output_type": "stream",
     "text": [
      "[1. 0. 0. 0. 1. 1. 1. 1. 1. 1. 1. 1. 1.]\n"
     ]
    }
   ],
   "source": [
    "# 테스트 데이터 출력\n",
    "print(test_target)\n",
    "\n",
    "# 도미 : 10 , 빙어 3 의 비율로 샘플링 편향이 나타난다.\n",
    "# 훈련세트와 테스트 세트에 샘플의 클래스 비율이 일정하지 않다면 모델이 일부 샘플을 올바르게 학습할 수 없을 것이다."
   ]
  },
  {
   "cell_type": "markdown",
   "metadata": {},
   "source": [
    "## stratify 매개변수 (train_test_split())\n",
    "> - 클래스 비율에 맞게 데이터를 나눠준다.\n",
    "> - 훈련 데이터가 작거나, 특정 클래스의 샘플 개수가 적을 때 특히 유용하다."
   ]
  },
  {
   "cell_type": "code",
   "execution_count": 12,
   "metadata": {},
   "outputs": [],
   "source": [
    "train_input, test_input, train_target, test_target = train_test_split(fish_data, fish_target, stratify=fish_target, random_state=42)"
   ]
  },
  {
   "cell_type": "code",
   "execution_count": 13,
   "metadata": {},
   "outputs": [
    {
     "name": "stdout",
     "output_type": "stream",
     "text": [
      "[0. 0. 1. 0. 1. 0. 1. 1. 1. 1. 1. 1. 1.]\n"
     ]
    }
   ],
   "source": [
    "print(test_target)\n",
    "# 도미 : 9, 빙어 4의 비율로 나뉘었다.\n",
    "# 전체 훈련 데이터의 비율과 동일하게 맞출 순 없지만 그래도 꽤 비슷한 비율로 나뉘었다. (2.25:1) (원본 2.5 : 1)"
   ]
  },
  {
   "cell_type": "markdown",
   "metadata": {},
   "source": [
    "# K-최근접 이웃 훈련"
   ]
  },
  {
   "cell_type": "code",
   "execution_count": 14,
   "metadata": {},
   "outputs": [
    {
     "data": {
      "text/plain": [
       "1.0"
      ]
     },
     "execution_count": 14,
     "metadata": {},
     "output_type": "execute_result"
    }
   ],
   "source": [
    "from sklearn.neighbors import KNeighborsClassifier\n",
    "kn = KNeighborsClassifier()\n",
    "kn.fit(train_input, train_target)\n",
    "kn.score(test_input, test_target)"
   ]
  },
  {
   "cell_type": "markdown",
   "metadata": {},
   "source": [
    "> 테스트 세트의 도미와 빙어를 모두 올바르게 분류함"
   ]
  },
  {
   "cell_type": "code",
   "execution_count": 15,
   "metadata": {},
   "outputs": [
    {
     "name": "stdout",
     "output_type": "stream",
     "text": [
      "[0.]\n"
     ]
    }
   ],
   "source": [
    "# 예측하기\n",
    "print(kn.predict([[25,150]]))"
   ]
  },
  {
   "cell_type": "code",
   "execution_count": 16,
   "metadata": {},
   "outputs": [
    {
     "data": {
      "image/png": "[encoded data removed]",
      "text/plain": [
       "<Figure size 432x288 with 1 Axes>"
      ]
     },
     "metadata": {
      "needs_background": "light"
     },
     "output_type": "display_data"
    }
   ],
   "source": [
    "# 위 샘플과 다른 데이터의 산점도 그리기\n",
    "import matplotlib.pyplot as plt\n",
    "plt.scatter(train_input[:,0], train_input[:,1])\n",
    "plt.scatter(25, 150, marker='^')\n",
    "plt.xlabel('length')\n",
    "plt.ylabel('weight')\n",
    "plt.show()"
   ]
  },
  {
   "cell_type": "markdown",
   "metadata": {},
   "source": [
    "# kneighbors() 메서드 활용하여 원인 분석하기"
   ]
  },
  {
   "cell_type": "code",
   "execution_count": 17,
   "metadata": {},
   "outputs": [],
   "source": [
    "distances, indexes = kn.kneighbors([[25,150]])"
   ]
  },
  {
   "cell_type": "code",
   "execution_count": 18,
   "metadata": {},
   "outputs": [
    {
     "name": "stdout",
     "output_type": "stream",
     "text": [
      "[[ 92.00086956 130.48375378 130.73859415 138.32150953 138.39320793]]\n",
      "[[21 33 19 30  1]]\n"
     ]
    }
   ],
   "source": [
    "print(distances)\n",
    "print(indexes)"
   ]
  },
  {
   "cell_type": "code",
   "execution_count": 19,
   "metadata": {},
   "outputs": [
    {
     "data": {
      "image/png": "[encoded data removed]",
      "text/plain": [
       "<Figure size 432x288 with 1 Axes>"
      ]
     },
     "metadata": {
      "needs_background": "light"
     },
     "output_type": "display_data"
    }
   ],
   "source": [
    "plt.scatter(train_input[:,0], train_input[:,1])     # train_input 배열 전체에서 0번째 열, 1번째 열을 각각 선점도로 나타낸다. // 0번째 열 : length, X축, 1번째 열 : weight, Y축을 나타냄\n",
    "plt.scatter(25, 150, marker='^')                    # 25, 150 위치에 삼각형(^) 마크를 그린다.\n",
    "plt.scatter(train_input[indexes,0], train_input[indexes,1], marker='D')     # train_input 배열에서 indexes에 해당하는 샘플중에 0번째 열, 1번째 열을 선점도로 나타낸다. // 0번째 열 : length, X축, 1번째 열 : weight, Y축\n",
    "plt.xlabel('length')        # X축 라벨을 length\n",
    "plt.ylabel('weight')        # Y축 라벨을 weight\n",
    "plt.show()"
   ]
  },
  {
   "cell_type": "code",
   "execution_count": 20,
   "metadata": {},
   "outputs": [
    {
     "name": "stdout",
     "output_type": "stream",
     "text": [
      "[[[ 25.4 242. ]\n",
      "  [ 15.   19.9]\n",
      "  [ 14.3  19.7]\n",
      "  [ 13.   12.2]\n",
      "  [ 12.2  12.2]]]\n",
      "(1, 5)\n",
      "(1, 5)\n"
     ]
    }
   ],
   "source": [
    "print(train_input[indexes])\n",
    "# print(train_input[[21, 33, 19, 30,  1]])      #indexes 는 array 배열로 나옴. (1, 5) 배열\n",
    "print(indexes.shape)\n",
    "print(distances.shape)"
   ]
  },
  {
   "cell_type": "code",
   "execution_count": 21,
   "metadata": {},
   "outputs": [
    {
     "name": "stdout",
     "output_type": "stream",
     "text": [
      "[29.7 12.2 33.  11.3 39.5 29.  36.  36.  31.  35.  37.  11.2 34.5 12.\n",
      " 29.  33.  30.7 38.5 33.5 14.3 31.5 25.4  9.8 32.  10.5 33.5 10.6 35.\n",
      " 32.  35.  13.  30.  32.  15.  30.  41. ]\n",
      "[ 500.    12.2  700.     8.7  925.   430.   714.   850.   475.   720.\n",
      " 1000.     9.8  620.     9.8  363.   700.   500.   955.   650.    19.7\n",
      "  500.   242.     6.7  600.     7.5  610.     7.   700.   600.   725.\n",
      "   12.2  450.   340.    19.9  390.   975. ]\n"
     ]
    }
   ],
   "source": [
    "print(train_input[:,0])     # length의 0 열\n",
    "print(train_input[:,1])     # weight의 1 열"
   ]
  },
  {
   "cell_type": "code",
   "execution_count": 22,
   "metadata": {},
   "outputs": [
    {
     "name": "stdout",
     "output_type": "stream",
     "text": [
      "[[25.4 15.  14.3 13.  12.2]]\n",
      "[[242.   19.9  19.7  12.2  12.2]]\n"
     ]
    }
   ],
   "source": [
    "print(train_input[indexes, 0])   # length의 0 열\n",
    "print(train_input[indexes, 1])   # weight의 1 열"
   ]
  },
  {
   "cell_type": "code",
   "execution_count": 23,
   "metadata": {},
   "outputs": [
    {
     "name": "stdout",
     "output_type": "stream",
     "text": [
      "[[1. 0. 0. 0. 0.]]\n"
     ]
    }
   ],
   "source": [
    "print(train_target[indexes])"
   ]
  },
  {
   "cell_type": "markdown",
   "metadata": {},
   "source": [
    "> - 길이가 25, 무게가 150인 생선에 가장 가까운 이웃에는 빙어가 4마리로 압도적으로 많다.\n",
    "> - 산점도 상에서는 도미와 가깝게 보이는데, 왜 가장 가까운 이웃이 빙어가 되었을까?"
   ]
  },
  {
   "cell_type": "code",
   "execution_count": 24,
   "metadata": {},
   "outputs": [
    {
     "name": "stdout",
     "output_type": "stream",
     "text": [
      "[[1. 0. 0. 0. 0.]]\n",
      "[[ 92.00086956 130.48375378 130.73859415 138.32150953 138.39320793]]\n"
     ]
    }
   ],
   "source": [
    "print(train_target[indexes])\n",
    "print(distances)"
   ]
  },
  {
   "cell_type": "markdown",
   "metadata": {},
   "source": [
    "> # 큰 문제는 , x축은 거리가 좁고, y 축은 거리가 넓다"
   ]
  },
  {
   "cell_type": "markdown",
   "metadata": {},
   "source": [
    "# x축 범위를 동일하기 0~1000으로 맞추기\n",
    "- xlim() 함수"
   ]
  },
  {
   "cell_type": "code",
   "execution_count": 25,
   "metadata": {},
   "outputs": [
    {
     "data": {
      "image/png": "[encoded data removed]",
      "text/plain": [
       "<Figure size 432x288 with 1 Axes>"
      ]
     },
     "metadata": {
      "needs_background": "light"
     },
     "output_type": "display_data"
    }
   ],
   "source": [
    "plt.scatter(train_input[:,0], train_input[:,1])\n",
    "plt.scatter(25, 150, marker='^')\n",
    "plt.scatter(train_input[indexes,0], train_input[indexes,1], marker='D')\n",
    "plt.xlim((0,1000))      # 튜플형태로 크기를 정해야 함!\n",
    "plt.xlabel('length')\n",
    "plt.ylabel('weight')\n",
    "plt.show()"
   ]
  },
  {
   "cell_type": "markdown",
   "metadata": {},
   "source": [
    "> ## 두 특성( 길이와 무게) 의 값이 놓인 범위가 매우 다르다\n",
    "> ## 이를 두 특성의 `스케일`이 다르다고 말한다."
   ]
  },
  {
   "cell_type": "markdown",
   "metadata": {},
   "source": [
    "# 데이터 전처리\n",
    "> - 데이터를 표현하는 기준이 다르면 알고리즘이 올바르게 예측할 수 없다.\n",
    "> - 특성값을 일정한 기준으로 맞춰 주어야 한다.\n",
    "\n",
    ">> 가장 널리 사용되는 전처리 방법 중 하나는 `표준점수 (standard score)`이다."
   ]
  },
  {
   "cell_type": "markdown",
   "metadata": {},
   "source": [
    "### 평균을 빼고, 표준편차를 나누어주면 된다."
   ]
  },
  {
   "cell_type": "code",
   "execution_count": 26,
   "metadata": {},
   "outputs": [],
   "source": [
    "mean = np.mean(train_input, axis=0)     # 평균을 계산한다.\n",
    "std = np.std(train_input, axis=0)       # 표준편차를 계산한다.\n",
    "\n",
    "\n",
    "# 각 특성별로 계산해야 한다.\n",
    "# 따라서 axis=0으로 지정했다.               // axis : 0 - 행 , 1 - 열 (?)   \n",
    "#                                       (http://machinelearningkorea.com/2019/05/18/%ED%8C%8C%EC%9D%B4%EC%8D%AC-axis-%EC%9D%B4%ED%95%B4%ED%95%98%EA%B8%B0-%EC%B9%98%ED%8A%B8%EC%BD%94%EB%93%9C/)\n",
    "# 행을 따라 각 열의 통계 값을 계산한다."
   ]
  },
  {
   "cell_type": "code",
   "execution_count": 27,
   "metadata": {},
   "outputs": [
    {
     "name": "stdout",
     "output_type": "stream",
     "text": [
      "[  982.7 16347.5] (2,)\n",
      "[ 529.7   24.4  733.    20.   964.5  459.   750.   886.   506.   755.\n",
      " 1037.    21.   654.5   21.8  392.   733.   530.7  993.5  683.5   34.\n",
      "  531.5  267.4   16.5  632.    18.   643.5   17.6  735.   632.   760.\n",
      "   25.2  480.   372.    34.9  420.  1016. ] (36,)\n"
     ]
    }
   ],
   "source": [
    "# axis 이해하기\n",
    "print(np.sum(train_input,axis=0), np.sum(train_input, axis=0).shape)        # 36 * 2 배열의 train_input의 axis=0을 하면, 2개만...!\n",
    "print(np.sum(train_input,axis=1), np.sum(train_input, axis=1).shape)        # 36 * 2 배열의 train_input의 axis=1을 하면, 36개!"
   ]
  },
  {
   "cell_type": "code",
   "execution_count": 28,
   "metadata": {},
   "outputs": [
    {
     "name": "stdout",
     "output_type": "stream",
     "text": [
      "[ 27.29722222 454.09722222] [  9.98244253 323.29893931]\n"
     ]
    }
   ],
   "source": [
    "# 계산된 평균과 표준편차 출력\n",
    "print(mean, std)"
   ]
  },
  {
   "cell_type": "markdown",
   "metadata": {},
   "source": [
    "# 원본 데이터에서 평균을 빼고, 표준편차로 나누어 표준점수로 변환하기"
   ]
  },
  {
   "cell_type": "code",
   "execution_count": 29,
   "metadata": {},
   "outputs": [],
   "source": [
    "train_scaled = (train_input - mean) / std"
   ]
  },
  {
   "cell_type": "markdown",
   "metadata": {},
   "source": [
    "> ### 브로드캐스팅 : \n",
    "> - 넘파이 배열 사이에서 일어나는 것. \n",
    "> - train_input, mean, std가 모두 넘파이 배열이다.\n",
    "> - train_input의 모든 행에서 mean에 있는 두 평균값을 뺀다.\n",
    "> - 그 다음 std에 있는 두 표준편차를 다시 모든 행에 적용시킨다."
   ]
  },
  {
   "cell_type": "markdown",
   "metadata": {},
   "source": [
    "# 전처리 데이터로 모델훈련하기"
   ]
  },
  {
   "cell_type": "code",
   "execution_count": 30,
   "metadata": {},
   "outputs": [
    {
     "data": {
      "image/png": "[encoded data removed]",
      "text/plain": [
       "<Figure size 432x288 with 1 Axes>"
      ]
     },
     "metadata": {
      "needs_background": "light"
     },
     "output_type": "display_data"
    }
   ],
   "source": [
    "plt.scatter(train_scaled[:,0], train_scaled[:,1])\n",
    "plt.scatter(25, 150, marker='^')\n",
    "plt.xlabel('length')\n",
    "plt.ylabel('weight')\n",
    "plt.show()"
   ]
  },
  {
   "cell_type": "markdown",
   "metadata": {},
   "source": [
    "> ### 샘플 25, 150 역시 동일한 비율로 변환해주어야 한다."
   ]
  },
  {
   "cell_type": "code",
   "execution_count": 31,
   "metadata": {},
   "outputs": [
    {
     "data": {
      "image/png": "[encoded data removed]",
      "text/plain": [
       "<Figure size 432x288 with 1 Axes>"
      ]
     },
     "metadata": {
      "needs_background": "light"
     },
     "output_type": "display_data"
    }
   ],
   "source": [
    "# 샘플 전처리하기\n",
    "new = ([25,150] - mean) / std\n",
    "# print(new)\n",
    "plt.scatter(train_scaled[:,0], train_scaled[:,1])\n",
    "plt.scatter(new[0], new[1], marker='^')\n",
    "plt.xlabel('length')\n",
    "plt.ylabel('weight')\n",
    "plt.show()"
   ]
  },
  {
   "cell_type": "code",
   "execution_count": 32,
   "metadata": {},
   "outputs": [
    {
     "data": {
      "text/plain": [
       "KNeighborsClassifier()"
      ]
     },
     "execution_count": 32,
     "metadata": {},
     "output_type": "execute_result"
    }
   ],
   "source": [
    "kn.fit(train_scaled, train_target)"
   ]
  },
  {
   "cell_type": "code",
   "execution_count": 33,
   "metadata": {},
   "outputs": [],
   "source": [
    "test_scaled = (test_input - mean) / std"
   ]
  },
  {
   "cell_type": "code",
   "execution_count": 34,
   "metadata": {},
   "outputs": [
    {
     "data": {
      "text/plain": [
       "1.0"
      ]
     },
     "execution_count": 34,
     "metadata": {},
     "output_type": "execute_result"
    }
   ],
   "source": [
    "kn.score(test_scaled, test_target)"
   ]
  },
  {
   "cell_type": "code",
   "execution_count": 35,
   "metadata": {},
   "outputs": [
    {
     "name": "stdout",
     "output_type": "stream",
     "text": [
      "[1.]\n"
     ]
    }
   ],
   "source": [
    "print(kn.predict([new]))"
   ]
  },
  {
   "cell_type": "code",
   "execution_count": 36,
   "metadata": {},
   "outputs": [
    {
     "data": {
      "image/png": "[encoded data removed]",
      "text/plain": [
       "<Figure size 432x288 with 1 Axes>"
      ]
     },
     "metadata": {
      "needs_background": "light"
     },
     "output_type": "display_data"
    }
   ],
   "source": [
    "distances, indexes = kn.kneighbors([new])\n",
    "plt.scatter(train_scaled[:,0], train_scaled[:,1])\n",
    "plt.scatter(new[0], new[1], marker='^')\n",
    "plt.scatter(train_scaled[indexes,0], train_scaled[indexes,1], marker='D')\n",
    "plt.xlabel('length')\n",
    "plt.ylabel('weight')\n",
    "plt.show()"
   ]
  },
  {
   "cell_type": "markdown",
   "metadata": {},
   "source": [
    "## 코드 정리"
   ]
  },
  {
   "cell_type": "code",
   "execution_count": 44,
   "metadata": {},
   "outputs": [
    {
     "data": {
      "image/png": "[encoded data removed]",
      "text/plain": [
       "<Figure size 432x288 with 1 Axes>"
      ]
     },
     "metadata": {
      "needs_background": "light"
     },
     "output_type": "display_data"
    },
    {
     "name": "stdout",
     "output_type": "stream",
     "text": [
      "[0.]\n"
     ]
    },
    {
     "data": {
      "image/png": "[encoded data removed]",
      "text/plain": [
       "<Figure size 432x288 with 1 Axes>"
      ]
     },
     "metadata": {
      "needs_background": "light"
     },
     "output_type": "display_data"
    },
    {
     "data": {
      "image/png": "[encoded data removed]",
      "text/plain": [
       "<Figure size 432x288 with 1 Axes>"
      ]
     },
     "metadata": {
      "needs_background": "light"
     },
     "output_type": "display_data"
    },
    {
     "data": {
      "image/png": "[encoded data removed]",
      "text/plain": [
       "<Figure size 432x288 with 1 Axes>"
      ]
     },
     "metadata": {
      "needs_background": "light"
     },
     "output_type": "display_data"
    },
    {
     "data": {
      "image/png": "[encoded data removed]",
      "text/plain": [
       "<Figure size 432x288 with 1 Axes>"
      ]
     },
     "metadata": {
      "needs_background": "light"
     },
     "output_type": "display_data"
    },
    {
     "data": {
      "image/png": "[encoded data removed]",
      "text/plain": [
       "<Figure size 432x288 with 1 Axes>"
      ]
     },
     "metadata": {
      "needs_background": "light"
     },
     "output_type": "display_data"
    },
    {
     "name": "stdout",
     "output_type": "stream",
     "text": [
      "[1.]\n",
      "1.0\n"
     ]
    }
   ],
   "source": [
    "# 1. 물고기 feature 가져오기\n",
    "fish_length = [25.4, 26.3, 26.5, 29.0, 29.0, 29.7, 29.7, 30.0, 30.0, 30.7, 31.0, 31.0, \n",
    "                31.5, 32.0, 32.0, 32.0, 33.0, 33.0, 33.5, 33.5, 34.0, 34.0, 34.5, 35.0, \n",
    "                35.0, 35.0, 35.0, 36.0, 36.0, 37.0, 38.5, 38.5, 39.5, 41.0, 41.0, 9.8, \n",
    "                10.5, 10.6, 11.0, 11.2, 11.3, 11.8, 11.8, 12.0, 12.2, 12.4, 13.0, 14.3, 15.0]\n",
    "fish_weight = [242.0, 290.0, 340.0, 363.0, 430.0, 450.0, 500.0, 390.0, 450.0, 500.0, 475.0, 500.0, \n",
    "                500.0, 340.0, 600.0, 600.0, 700.0, 700.0, 610.0, 650.0, 575.0, 685.0, 620.0, 680.0, \n",
    "                700.0, 725.0, 720.0, 714.0, 850.0, 1000.0, 920.0, 955.0, 925.0, 975.0, 950.0, 6.7, \n",
    "                7.5, 7.0, 9.7, 9.8, 8.7, 10.0, 9.9, 9.8, 12.2, 13.4, 12.2, 19.7, 19.9]\n",
    "\n",
    "# 2. 이진분류 (np.ones(), np.zeros())하기, np.concatenate()\n",
    "import numpy as np\n",
    "fish_target = np.concatenate([np.ones(35), np.zeros(14)])\n",
    "\n",
    "# 3. 특성 합쳐서 fish_data 만들기\n",
    "fish_data = np.column_stack([fish_length, fish_weight])\n",
    "\n",
    "# 4. 사이킷런으로 train_test_split() import\n",
    "from sklearn.model_selection import train_test_split\n",
    "\n",
    "# 5. TTS에 데이터 집어넣기, stratify로 샘플링 편향 줄이기\n",
    "train_input, test_input, train_target, test_target = train_test_split(fish_data, fish_target, stratify=fish_target, random_state=42)\n",
    "\n",
    "# 6. K-최근접 import 및 훈련시키기\n",
    "from sklearn.neighbors import KNeighborsClassifier\n",
    "kn = KNeighborsClassifier()\n",
    "kn.fit(train_input, train_target)\n",
    "\n",
    "# 7. scatter(선점도) 찍어보기\n",
    "import matplotlib.pyplot as plt\n",
    "plt.scatter(train_input[:,0], train_input[:,1])\n",
    "plt.xlabel('length')\n",
    "plt.ylabel('weight')\n",
    "plt.show()\n",
    "\n",
    "# 8. predict 해보기\n",
    "print(kn.predict([[25, 150]]))      # 0이 뜬다... \n",
    "\n",
    "# 9. scatter(선점도) 찍어보기\n",
    "plt.scatter(train_input[:,0], train_input[:,1])\n",
    "plt.scatter(25, 150, marker='^')\n",
    "plt.show()\n",
    "\n",
    "# 10. distances, indexes 찾기 // kneighbors 메서드 이용\n",
    "distances, indexes = kn.kneighbors([[25, 150]])\n",
    "\n",
    "# 11. scatter로 다시 표현해보기\n",
    "plt.scatter(train_input[:,0], train_input[:,1])\n",
    "plt.scatter(25, 150, marker='^')\n",
    "plt.scatter(train_input[indexes,0], train_input[indexes,1], marker='D')\n",
    "plt.xlabel('length')\n",
    "plt.ylabel('weight')\n",
    "plt.show()\n",
    "\n",
    "# 12. 원인분석하기 // 각 특성의 스케일 동일화 해보기        >> 문제점 발견\n",
    "plt.scatter(train_input[:,0], train_input[:,1])\n",
    "plt.scatter(25, 150, marker='^')\n",
    "plt.scatter(train_input[indexes,0], train_input[indexes,1])\n",
    "plt.xlim((0,1000))\n",
    "plt.xlabel('length')\n",
    "plt.ylabel('weight')\n",
    "plt.show()\n",
    "\n",
    "# 13. 전처리하기 , 분산, 표준편차, 표준점수(standard score)\n",
    "mean = np.mean(train_input, axis=0)     # 평균\n",
    "std = np.std(train_input, axis=0)       # 표준편차\n",
    "\n",
    "train_scaled = (train_input - mean) / std       # 훈련용 데이터 브로드캐스팅\n",
    "test_scaled = (test_input - mean) / std         # 테스트용 데이터 브로드캐스팅\n",
    "\n",
    "# 14. 스케일 바뀐 train_scaled를 kn.fit 시키기\n",
    "kn.fit(train_scaled, train_target)\n",
    "\n",
    "# 14. scaled 된 값으로 scatter 다시 그리기\n",
    "plt.scatter(train_scaled[:,0], train_scaled[:,1])\n",
    "plt.scatter(25, 150, marker='^')            # 해당 값도 전처리를 해야한다!\n",
    "plt.scatter(train_scaled[indexes,0], train_scaled[indexes,1], marker='D')\n",
    "plt.xlabel('length')\n",
    "plt.ylabel('weight')\n",
    "plt.show()\n",
    "\n",
    "# 15. 찾고자 하는 값 전처리 하기 // distances, indexes 값 재 설정\n",
    "new = ([25, 150] - mean) / std\n",
    "distances, indexes = kn.kneighbors([new])\n",
    "\n",
    "# 16. 최종 scatter\n",
    "plt.scatter(train_scaled[:,0], train_scaled[:,1])\n",
    "plt.scatter(new[0], new[1], marker='^')\n",
    "plt.scatter(train_scaled[indexes,0], train_scaled[indexes,1], marker='D')\n",
    "plt.xlabel('length')\n",
    "plt.ylabel('weight')\n",
    "plt.show()      # 정상적으로 실행되었다.\n",
    "\n",
    "\n",
    "# 17. 특정값 Predict 하기\n",
    "print(kn.predict([new]))\n",
    "print(kn.score(test_scaled, test_target))\n",
    "\n",
    "def predict(feature):\n",
    "    # plt.scatter()\n",
    "    return"
   ]
  },
  {
   "cell_type": "markdown",
   "metadata": {},
   "source": [
    "# 최종 정리\n"
   ]
  },
  {
   "cell_type": "code",
   "execution_count": 67,
   "metadata": {},
   "outputs": [
    {
     "data": {
      "image/png": "[encoded data removed]",
      "text/plain": [
       "<Figure size 432x288 with 1 Axes>"
      ]
     },
     "metadata": {
      "needs_background": "light"
     },
     "output_type": "display_data"
    },
    {
     "name": "stdout",
     "output_type": "stream",
     "text": [
      "[1.]\n"
     ]
    }
   ],
   "source": [
    "# 피쳐 가져오기\n",
    "fish_length = [25.4, 26.3, 26.5, 29.0, 29.0, 29.7, 29.7, 30.0, 30.0, 30.7, 31.0, 31.0, \n",
    "                31.5, 32.0, 32.0, 32.0, 33.0, 33.0, 33.5, 33.5, 34.0, 34.0, 34.5, 35.0, \n",
    "                35.0, 35.0, 35.0, 36.0, 36.0, 37.0, 38.5, 38.5, 39.5, 41.0, 41.0, 9.8, \n",
    "                10.5, 10.6, 11.0, 11.2, 11.3, 11.8, 11.8, 12.0, 12.2, 12.4, 13.0, 14.3, 15.0]\n",
    "fish_weight = [242.0, 290.0, 340.0, 363.0, 430.0, 450.0, 500.0, 390.0, 450.0, 500.0, 475.0, 500.0, \n",
    "                500.0, 340.0, 600.0, 600.0, 700.0, 700.0, 610.0, 650.0, 575.0, 685.0, 620.0, 680.0, \n",
    "                700.0, 725.0, 720.0, 714.0, 850.0, 1000.0, 920.0, 955.0, 925.0, 975.0, 950.0, 6.7, \n",
    "                7.5, 7.0, 9.7, 9.8, 8.7, 10.0, 9.9, 9.8, 12.2, 13.4, 12.2, 19.7, 19.9]\n",
    "\n",
    "# 데이터 합치기\n",
    "import numpy as np\n",
    "fish_data = np.column_stack([fish_length, fish_weight])\n",
    "fish_target = np.concatenate([np.ones(35), np.zeros(14)])\n",
    "\n",
    "# sklearn\n",
    "from sklearn.model_selection import train_test_split\n",
    "train_input, test_input, train_target, test_target = train_test_split(fish_data, fish_target, stratify=fish_target, random_state=42)\n",
    "\n",
    "# K- 최근접 이웃\n",
    "from sklearn.neighbors import KNeighborsClassifier\n",
    "kn = KNeighborsClassifier()\n",
    "kn.fit(train_input, train_target)\n",
    "\n",
    "# 전처리 (standard score)\n",
    "mean = np.mean(train_input, axis = 0)\n",
    "std = np.std(train_input, axis = 0)\n",
    "\n",
    "# 전처리 적용\n",
    "train_scaled = (train_input - mean) / std\n",
    "test_scaled = (test_input - mean) / std\n",
    "new = ([25, 150] - mean) / std\n",
    "\n",
    "# kn 재 훈련\n",
    "kn.fit(train_scaled, train_target)\n",
    "\n",
    "# distances, indexes 구하기\n",
    "distances, indexes = kn.kneighbors([new])\n",
    "\n",
    "# scatter\n",
    "import matplotlib.pyplot as plt\n",
    "plt.scatter(train_scaled[:,0], train_scaled[:,1])\n",
    "plt.scatter(new[0], new[1], marker='^')\n",
    "plt.scatter(train_scaled[indexes,0], train_scaled[indexes,1], marker='D')\n",
    "plt.xlabel('length')\n",
    "plt.ylabel('weight')\n",
    "plt.show()\n",
    "\n",
    "# 특정 값 측정\n",
    "print(kn.predict([new]))"
   ]
  },
  {
   "cell_type": "markdown",
   "metadata": {},
   "source": [
    "# 함수화 하기"
   ]
  },
  {
   "cell_type": "code",
   "execution_count": 85,
   "metadata": {},
   "outputs": [],
   "source": [
    "def predict_fish(feature):\n",
    "    import numpy as np\n",
    "    from sklearn.model_selection import train_test_split\n",
    "    from sklearn.neighbors import KNeighborsClassifier\n",
    "    import matplotlib.pyplot as plt\n",
    "\n",
    "    # 물고기 특성 (feature) 고정\n",
    "    fish_length = [25.4, 26.3, 26.5, 29.0, 29.0, 29.7, 29.7, 30.0, 30.0, 30.7, 31.0, 31.0, \n",
    "                31.5, 32.0, 32.0, 32.0, 33.0, 33.0, 33.5, 33.5, 34.0, 34.0, 34.5, 35.0, \n",
    "                35.0, 35.0, 35.0, 36.0, 36.0, 37.0, 38.5, 38.5, 39.5, 41.0, 41.0, 9.8, \n",
    "                10.5, 10.6, 11.0, 11.2, 11.3, 11.8, 11.8, 12.0, 12.2, 12.4, 13.0, 14.3, 15.0]\n",
    "    fish_weight = [242.0, 290.0, 340.0, 363.0, 430.0, 450.0, 500.0, 390.0, 450.0, 500.0, 475.0, 500.0, \n",
    "                500.0, 340.0, 600.0, 600.0, 700.0, 700.0, 610.0, 650.0, 575.0, 685.0, 620.0, 680.0, \n",
    "                700.0, 725.0, 720.0, 714.0, 850.0, 1000.0, 920.0, 955.0, 925.0, 975.0, 950.0, 6.7, \n",
    "                7.5, 7.0, 9.7, 9.8, 8.7, 10.0, 9.9, 9.8, 12.2, 13.4, 12.2, 19.7, 19.9]\n",
    "    \n",
    "    # 물고기 샘플 저장\n",
    "    fish_data = np.column_stack([fish_length, fish_weight])\n",
    "    fish_target = np.concatenate([np.ones(35), np.zeros(14)])\n",
    "\n",
    "    # sklearn의 tts를 통해 분류\n",
    "    train_input, test_input, train_target, test_target = train_test_split(fish_data, fish_target, stratify=fish_target, random_state=42)\n",
    "\n",
    "    # 전처리 진행\n",
    "    mean = np.mean(train_input, axis = 0)           # axis 넣는걸 깜빡한다...\n",
    "    std = np.mean(train_input, axis = 0)            # axis 넣기!!\n",
    "\n",
    "    train_scaled = (train_input - mean) / std\n",
    "    test_scaled = (test_input - mean) / std\n",
    "    \n",
    "    # K - 최근접 이웃 import\n",
    "    kn = KNeighborsClassifier()\n",
    "    kn.fit(train_scaled, train_target)\n",
    "\n",
    "    # 제시된 규격의 물고기 데이터 변환\n",
    "    answer = (feature - mean) / std\n",
    "    \n",
    "    # distances , indexes 만들기\n",
    "    distances, indexes = kn.kneighbors([answer])\n",
    "\n",
    "    # 선점도 그리기\n",
    "    plt.scatter(train_scaled[:,0], train_scaled[:,1])\n",
    "    plt.scatter(train_scaled[indexes,0], train_scaled[indexes,1], marker='D')\n",
    "    plt.scatter(answer[0], answer[1], marker='^')\n",
    "    plt.xlabel('length')\n",
    "    plt.ylabel('weigth')\n",
    "    plt.show()\n",
    "\n",
    "    # 제시된 규격의 물고기 예측하기\n",
    "    answer = kn.predict([answer])\n",
    "\n",
    "    # 결과 도출\n",
    "    return answer"
   ]
  },
  {
   "cell_type": "code",
   "execution_count": 86,
   "metadata": {},
   "outputs": [
    {
     "data": {
      "image/png": "[encoded data removed]",
      "text/plain": [
       "<Figure size 432x288 with 1 Axes>"
      ]
     },
     "metadata": {
      "needs_background": "light"
     },
     "output_type": "display_data"
    },
    {
     "data": {
      "text/plain": [
       "array([1.])"
      ]
     },
     "execution_count": 86,
     "metadata": {},
     "output_type": "execute_result"
    }
   ],
   "source": [
    "predict_fish([25, 150])"
   ]
  },
  {
   "cell_type": "code",
   "execution_count": 87,
   "metadata": {},
   "outputs": [
    {
     "data": {
      "image/png": "[encoded data removed]",
      "text/plain": [
       "<Figure size 432x288 with 1 Axes>"
      ]
     },
     "metadata": {
      "needs_background": "light"
     },
     "output_type": "display_data"
    },
    {
     "data": {
      "text/plain": [
       "array([0.])"
      ]
     },
     "execution_count": 87,
     "metadata": {},
     "output_type": "execute_result"
    }
   ],
   "source": [
    "predict_fish([11, 25])"
   ]
  },
  {
   "cell_type": "code",
   "execution_count": 92,
   "metadata": {},
   "outputs": [
    {
     "data": {
      "image/png": "[encoded data removed]",
      "text/plain": [
       "<Figure size 432x288 with 1 Axes>"
      ]
     },
     "metadata": {
      "needs_background": "light"
     },
     "output_type": "display_data"
    },
    {
     "data": {
      "text/plain": [
       "array([0.])"
      ]
     },
     "execution_count": 92,
     "metadata": {},
     "output_type": "execute_result"
    }
   ],
   "source": [
    "predict_fish([15, 19.9])"
   ]
  }
 ],
 "metadata": {
  "interpreter": {
   "hash": "87ca1d6ab9f465f53e65f605edcd7bd5e587820eac99c13303a6570f5c29f59a"
  },
  "kernelspec": {
   "display_name": "Python 3.8.11 ('ds_study')",
   "language": "python",
   "name": "python3"
  },
  "language_info": {
   "codemirror_mode": {
    "name": "ipython",
    "version": 3
   },
   "file_extension": ".py",
   "mimetype": "text/x-python",
   "name": "python",
   "nbconvert_exporter": "python",
   "pygments_lexer": "ipython3",
   "version": "3.8.11"
  },
  "orig_nbformat": 4
 },
 "nbformat": 4,
 "nbformat_minor": 2
}
