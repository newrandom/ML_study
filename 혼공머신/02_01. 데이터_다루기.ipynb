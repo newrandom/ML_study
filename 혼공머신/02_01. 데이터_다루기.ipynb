{
  "cells": [
    {
      "cell_type": "markdown",
      "metadata": {
        "colab_type": "text",
        "id": "view-in-github"
      },
      "source": [
        "<a href=\"https://colab.research.google.com/github/newrandom/ML_study/blob/main/02_%EB%8D%B0%EC%9D%B4%ED%84%B0_%EB%8B%A4%EB%A3%A8%EA%B8%B0.ipynb\" target=\"_parent\"><img src=\"https://colab.research.google.com/assets/colab-badge.svg\" alt=\"Open In Colab\"/></a>"
      ]
    },
    {
      "cell_type": "code",
      "execution_count": 1,
      "metadata": {
        "id": "6DfFS38zSRqR"
      },
      "outputs": [],
      "source": [
        "fish_length = [25.4, 26.3, 26.5, 29.0, 29.0, 29.7, 29.7, 30.0, 30.0, 30.7, 31.0, 31.0, \n",
        "                31.5, 32.0, 32.0, 32.0, 33.0, 33.0, 33.5, 33.5, 34.0, 34.0, 34.5, 35.0, \n",
        "                35.0, 35.0, 35.0, 36.0, 36.0, 37.0, 38.5, 38.5, 39.5, 41.0, 41.0, 9.8, \n",
        "                10.5, 10.6, 11.0, 11.2, 11.3, 11.8, 11.8, 12.0, 12.2, 12.4, 13.0, 14.3, 15.0]\n",
        "fish_weight = [242.0, 290.0, 340.0, 363.0, 430.0, 450.0, 500.0, 390.0, 450.0, 500.0, 475.0, 500.0, \n",
        "                500.0, 340.0, 600.0, 600.0, 700.0, 700.0, 610.0, 650.0, 575.0, 685.0, 620.0, 680.0, \n",
        "                700.0, 725.0, 720.0, 714.0, 850.0, 1000.0, 920.0, 955.0, 925.0, 975.0, 950.0, 6.7, \n",
        "                7.5, 7.0, 9.7, 9.8, 8.7, 10.0, 9.9, 9.8, 12.2, 13.4, 12.2, 19.7, 19.9]"
      ]
    },
    {
      "cell_type": "code",
      "execution_count": 2,
      "metadata": {
        "colab": {
          "base_uri": "https://localhost:8080/"
        },
        "id": "CkRsMNN_TGVY",
        "outputId": "b61a9f2c-c9ad-4ac9-8c46-973ec242becf"
      },
      "outputs": [
        {
          "name": "stdout",
          "output_type": "stream",
          "text": [
            "49 49\n"
          ]
        }
      ],
      "source": [
        "print(len(fish_length), len(fish_weight))"
      ]
    },
    {
      "cell_type": "code",
      "execution_count": 3,
      "metadata": {
        "id": "A0C0JQHGTJbi"
      },
      "outputs": [],
      "source": [
        "# 생선 데이터 샘플링 하기 // 총 49개의 샘플이 제작된다.\n",
        "fish_data = [[l, w] for l, w in zip(fish_length, fish_weight)]      \n",
        "fish_target = [1] * 35 + [0] * 14"
      ]
    },
    {
      "cell_type": "code",
      "execution_count": 4,
      "metadata": {
        "colab": {
          "base_uri": "https://localhost:8080/"
        },
        "id": "HoqryktTUEiH",
        "outputId": "4c3478f1-d2a4-48d0-e29f-7f1f8348fe56"
      },
      "outputs": [
        {
          "name": "stdout",
          "output_type": "stream",
          "text": [
            "49\n",
            "[25.4, 242.0]\n"
          ]
        }
      ],
      "source": [
        "print(len(fish_data))\n",
        "print(fish_data[0])"
      ]
    },
    {
      "cell_type": "code",
      "execution_count": 5,
      "metadata": {
        "id": "UsPSGpLBUdtl"
      },
      "outputs": [],
      "source": [
        "# 49개의 데이터 샘플 중, 훈련세트 35개, 테스트세트 14개 사용\n",
        "# KNC 클래스 import, 모델 객체 만들기\n",
        "from sklearn.neighbors import KNeighborsClassifier\n",
        "kn = KNeighborsClassifier()"
      ]
    },
    {
      "cell_type": "code",
      "execution_count": 6,
      "metadata": {
        "colab": {
          "base_uri": "https://localhost:8080/"
        },
        "id": "qTZ7lQaQVBGL",
        "outputId": "2369405f-7216-492e-8a92-8bd924381c60"
      },
      "outputs": [
        {
          "name": "stdout",
          "output_type": "stream",
          "text": [
            "[29.0, 430.0]\n"
          ]
        }
      ],
      "source": [
        "print(fish_data[4])"
      ]
    },
    {
      "cell_type": "code",
      "execution_count": 7,
      "metadata": {
        "colab": {
          "base_uri": "https://localhost:8080/"
        },
        "id": "HuDJoCwZVL3S",
        "outputId": "1f9cc264-a178-4dd0-8c81-8e76a86d3473"
      },
      "outputs": [
        {
          "name": "stdout",
          "output_type": "stream",
          "text": [
            "[[25.4, 242.0], [26.3, 290.0], [26.5, 340.0], [29.0, 363.0], [29.0, 430.0]]\n",
            "[[25.4, 242.0], [26.3, 290.0], [26.5, 340.0], [29.0, 363.0], [29.0, 430.0]]\n"
          ]
        }
      ],
      "source": [
        "print(fish_data[0:5])\n",
        "print(fish_data[:5])"
      ]
    },
    {
      "cell_type": "code",
      "execution_count": 8,
      "metadata": {
        "colab": {
          "base_uri": "https://localhost:8080/"
        },
        "id": "qpegQ6_nVQLM",
        "outputId": "22867152-8c6a-4316-8b68-7fb83506c3ef"
      },
      "outputs": [
        {
          "name": "stdout",
          "output_type": "stream",
          "text": [
            "[[12.2, 12.2], [12.4, 13.4], [13.0, 12.2], [14.3, 19.7], [15.0, 19.9]]\n"
          ]
        }
      ],
      "source": [
        "print(fish_data[44:])"
      ]
    },
    {
      "cell_type": "code",
      "execution_count": 9,
      "metadata": {
        "id": "EGaNARDGVdNy"
      },
      "outputs": [],
      "source": [
        "# 전체 데이터에서 35개 선택하기.\n",
        "train_input = fish_data[:35]            # 인풋 : 데이터\n",
        "train_target = fish_target[:35]         # 타깃 : 정답\n",
        "\n",
        "test_input = fish_data[35:]\n",
        "test_target = fish_target[35:]"
      ]
    },
    {
      "cell_type": "code",
      "execution_count": 10,
      "metadata": {
        "colab": {
          "base_uri": "https://localhost:8080/"
        },
        "id": "Tjt09ke5Visx",
        "outputId": "a1c0b4cd-ef00-4203-b820-45fad0f79135"
      },
      "outputs": [
        {
          "data": {
            "text/plain": [
              "0.0"
            ]
          },
          "execution_count": 10,
          "metadata": {},
          "output_type": "execute_result"
        }
      ],
      "source": [
        "kn = kn.fit(train_input, train_target)\n",
        "kn.score(test_input, test_target)\n",
        "\n",
        "## 도미 데이터와 빙어데이터가 35:14 로 나뉜 것을 알고 있음.\n",
        "## 그런데 훈련용으로 fish_data 샘플의 35까지는 도미데이터, fish_data 샘플의 36~49 까지는 빙어데이터인데,\n",
        "## 훈련용으로 도미데이터만 사용하였으니,\n",
        "## 테스트용의 35~의 값들은 전부 빙어에만 속하게 된다.\n",
        "\n",
        "### 따라서 정확도가 0.0 이 나오는 것이 당연함. (도미샘플과 빙어샘플이 일치하는 것이 없기 때문)      // 샘플링 편향"
      ]
    },
    {
      "cell_type": "code",
      "execution_count": 11,
      "metadata": {
        "id": "P_xLBnLUV94G"
      },
      "outputs": [],
      "source": [
        "# numpy import\n",
        "import numpy as np"
      ]
    },
    {
      "cell_type": "code",
      "execution_count": 12,
      "metadata": {
        "id": "XluYa-z1XbbF"
      },
      "outputs": [],
      "source": [
        "# 파이썬 리스트를 numpy 배열로 바꾸기\n",
        "input_arr = np.array(fish_data)\n",
        "target_arr = np.array(fish_target)"
      ]
    },
    {
      "cell_type": "code",
      "execution_count": 13,
      "metadata": {
        "colab": {
          "base_uri": "https://localhost:8080/"
        },
        "id": "ChdvXLScXoA-",
        "outputId": "926cf004-f42a-4d77-a0ac-84fadf91b6c8"
      },
      "outputs": [
        {
          "name": "stdout",
          "output_type": "stream",
          "text": [
            "[[  25.4  242. ]\n",
            " [  26.3  290. ]\n",
            " [  26.5  340. ]\n",
            " [  29.   363. ]\n",
            " [  29.   430. ]\n",
            " [  29.7  450. ]\n",
            " [  29.7  500. ]\n",
            " [  30.   390. ]\n",
            " [  30.   450. ]\n",
            " [  30.7  500. ]\n",
            " [  31.   475. ]\n",
            " [  31.   500. ]\n",
            " [  31.5  500. ]\n",
            " [  32.   340. ]\n",
            " [  32.   600. ]\n",
            " [  32.   600. ]\n",
            " [  33.   700. ]\n",
            " [  33.   700. ]\n",
            " [  33.5  610. ]\n",
            " [  33.5  650. ]\n",
            " [  34.   575. ]\n",
            " [  34.   685. ]\n",
            " [  34.5  620. ]\n",
            " [  35.   680. ]\n",
            " [  35.   700. ]\n",
            " [  35.   725. ]\n",
            " [  35.   720. ]\n",
            " [  36.   714. ]\n",
            " [  36.   850. ]\n",
            " [  37.  1000. ]\n",
            " [  38.5  920. ]\n",
            " [  38.5  955. ]\n",
            " [  39.5  925. ]\n",
            " [  41.   975. ]\n",
            " [  41.   950. ]\n",
            " [   9.8    6.7]\n",
            " [  10.5    7.5]\n",
            " [  10.6    7. ]\n",
            " [  11.     9.7]\n",
            " [  11.2    9.8]\n",
            " [  11.3    8.7]\n",
            " [  11.8   10. ]\n",
            " [  11.8    9.9]\n",
            " [  12.     9.8]\n",
            " [  12.2   12.2]\n",
            " [  12.4   13.4]\n",
            " [  13.    12.2]\n",
            " [  14.3   19.7]\n",
            " [  15.    19.9]]\n"
          ]
        }
      ],
      "source": [
        "print(input_arr)"
      ]
    },
    {
      "cell_type": "code",
      "execution_count": 14,
      "metadata": {
        "colab": {
          "base_uri": "https://localhost:8080/"
        },
        "id": "fUAiJTEpXqnN",
        "outputId": "ae25af56-9682-443e-bcb8-50815505f272"
      },
      "outputs": [
        {
          "name": "stdout",
          "output_type": "stream",
          "text": [
            "[[25.4, 242.0], [26.3, 290.0], [26.5, 340.0], [29.0, 363.0], [29.0, 430.0], [29.7, 450.0], [29.7, 500.0], [30.0, 390.0], [30.0, 450.0], [30.7, 500.0], [31.0, 475.0], [31.0, 500.0], [31.5, 500.0], [32.0, 340.0], [32.0, 600.0], [32.0, 600.0], [33.0, 700.0], [33.0, 700.0], [33.5, 610.0], [33.5, 650.0], [34.0, 575.0], [34.0, 685.0], [34.5, 620.0], [35.0, 680.0], [35.0, 700.0], [35.0, 725.0], [35.0, 720.0], [36.0, 714.0], [36.0, 850.0], [37.0, 1000.0], [38.5, 920.0], [38.5, 955.0], [39.5, 925.0], [41.0, 975.0], [41.0, 950.0], [9.8, 6.7], [10.5, 7.5], [10.6, 7.0], [11.0, 9.7], [11.2, 9.8], [11.3, 8.7], [11.8, 10.0], [11.8, 9.9], [12.0, 9.8], [12.2, 12.2], [12.4, 13.4], [13.0, 12.2], [14.3, 19.7], [15.0, 19.9]]\n"
          ]
        }
      ],
      "source": [
        "print(fish_data)"
      ]
    },
    {
      "cell_type": "code",
      "execution_count": 15,
      "metadata": {
        "colab": {
          "base_uri": "https://localhost:8080/"
        },
        "id": "FqcfJl4NXtNP",
        "outputId": "489cbe0d-3831-4e07-a66c-8e308ccb16dd"
      },
      "outputs": [
        {
          "name": "stdout",
          "output_type": "stream",
          "text": [
            "(49, 2)\n"
          ]
        }
      ],
      "source": [
        "print(input_arr.shape)      # (샘플 수, 특성 수) 를 출력해준다."
      ]
    },
    {
      "cell_type": "markdown",
      "metadata": {
        "id": "weNNnUeCYDPe"
      },
      "source": [
        "- 무작위 샘플링\n",
        "- input_arr, 과 target_arr 의 데이터 위치는 함께 선택 되어야 한다!"
      ]
    },
    {
      "cell_type": "code",
      "execution_count": 16,
      "metadata": {
        "colab": {
          "base_uri": "https://localhost:8080/"
        },
        "id": "NU41oM76YdNU",
        "outputId": "956a284a-4745-4048-b919-bf468e942331"
      },
      "outputs": [
        {
          "name": "stdout",
          "output_type": "stream",
          "text": [
            "[ 0  1  2  3  4  5  6  7  8  9 10 11 12 13 14 15 16 17 18 19 20 21 22 23\n",
            " 24 25 26 27 28 29 30 31 32 33 34 35 36 37 38 39 40 41 42 43 44 45 46 47\n",
            " 48]\n",
            "[13 45 47 44 17 27 26 25 31 19 12  4 34  8  3  6 40 41 46 15  9 16 24 33\n",
            " 30  0 43 32  5 29 11 36  1 21  2 37 35 23 39 10 22 18 48 20  7 42 14 28\n",
            " 38]\n"
          ]
        }
      ],
      "source": [
        "np.random.seed(42)          # random.seed(N) : 일정한 결과를 얻기 위해 지정 // 넘파이에서 무작위 결과를 만드는 함수들은 실행할 때마다 다른 결과를 만든다.\n",
        "index = np.arange(49)       # arange(N) : 0부터 N-1 까지 1씩 증가하는 배열을 만든다.\n",
        "print(index)\n",
        "np.random.shuffle(index)    # shuffle((numpy.ndarray)) : 주어진 배열을 무작위로 섞는다.\n",
        "print(index)"
      ]
    },
    {
      "cell_type": "code",
      "execution_count": 17,
      "metadata": {
        "colab": {
          "base_uri": "https://localhost:8080/"
        },
        "id": "S5l-W44LZOBh",
        "outputId": "fcb8cbfd-4968-400a-9ec4-741843fe7ff2"
      },
      "outputs": [
        {
          "name": "stdout",
          "output_type": "stream",
          "text": [
            "[[ 26.3 290. ]\n",
            " [ 29.  363. ]]\n"
          ]
        }
      ],
      "source": [
        "# 배열 인덱싱\n",
        "print(input_arr[[1, 3]])        # 2 번째와 4번째 샘플 출력"
      ]
    },
    {
      "cell_type": "code",
      "execution_count": 18,
      "metadata": {
        "id": "27hdjkkVZa-b"
      },
      "outputs": [],
      "source": [
        "# 랜덤한 35개 샘플을 훈련세트로 제작\n",
        "\n",
        "train_input  = input_arr[index[:35]]\n",
        "train_target = target_arr[index[:35]]"
      ]
    },
    {
      "cell_type": "code",
      "execution_count": 19,
      "metadata": {
        "colab": {
          "base_uri": "https://localhost:8080/"
        },
        "id": "nm6W2XBRb4ak",
        "outputId": "9fd31512-934f-4afb-d804-795eac05dc96"
      },
      "outputs": [
        {
          "name": "stdout",
          "output_type": "stream",
          "text": [
            "[[ 32.  340. ]\n",
            " [ 12.4  13.4]\n",
            " [ 14.3  19.7]\n",
            " [ 12.2  12.2]\n",
            " [ 33.  700. ]]\n",
            "[1 0 0 0 1]\n"
          ]
        }
      ],
      "source": [
        "print(train_input[:5])\n",
        "print(train_target[:5])"
      ]
    },
    {
      "cell_type": "code",
      "execution_count": 20,
      "metadata": {
        "colab": {
          "base_uri": "https://localhost:8080/"
        },
        "id": "iykEKZcjb5sA",
        "outputId": "85a69bac-3395-4a9b-d92d-b8acebbf3100"
      },
      "outputs": [
        {
          "name": "stdout",
          "output_type": "stream",
          "text": [
            "[ 32. 340.] [ 32. 340.]\n"
          ]
        }
      ],
      "source": [
        "print(input_arr[13], train_input[0])    # input_arr의 13번째 데이터는 train_input의 0번째 데이터에 저장되어 있다."
      ]
    },
    {
      "cell_type": "code",
      "execution_count": 21,
      "metadata": {
        "id": "vgqhR3o3dPiq"
      },
      "outputs": [],
      "source": [
        "# 나머지 테스트용 데이터 샘플 만들기\n",
        "\n",
        "test_input = input_arr[index[35:]]\n",
        "test_target = target_arr[index[35:]]"
      ]
    },
    {
      "cell_type": "code",
      "execution_count": 22,
      "metadata": {
        "colab": {
          "base_uri": "https://localhost:8080/",
          "height": 279
        },
        "id": "Qc6UFdU2dlTJ",
        "outputId": "532970ab-b3f1-451a-c42a-71b45fda8741"
      },
      "outputs": [
        {
          "data": {
            "image/png": "[encoded data removed]",
            "text/plain": [
              "<Figure size 432x288 with 1 Axes>"
            ]
          },
          "metadata": {
            "needs_background": "light"
          },
          "output_type": "display_data"
        }
      ],
      "source": [
        "# scatter() 사용하기\n",
        "import matplotlib.pyplot as plt\n",
        "plt.scatter(train_input[:,0], train_input[:,1])     # train_input 전체 샘플에서, 0 번 과 1번 특성을 scatter로 나타낸다.\n",
        "plt.scatter(test_input[:,0], test_input[:,1])       # test_input 전체 샘플에서, 0번과 1번 특성을 scatter로 나타낸다.\n",
        "plt.xlabel('length')\n",
        "plt.ylabel('weight')\n",
        "plt.show()"
      ]
    },
    {
      "cell_type": "code",
      "execution_count": 23,
      "metadata": {
        "colab": {
          "base_uri": "https://localhost:8080/"
        },
        "id": "XN29vqNbeKKx",
        "outputId": "cd4ae440-88e2-40f9-e1af-7035a0080ad3"
      },
      "outputs": [
        {
          "name": "stdout",
          "output_type": "stream",
          "text": [
            "[32.  12.4 14.3 12.2 33. ]\n",
            "[340.   13.4  19.7  12.2 700. ]\n"
          ]
        }
      ],
      "source": [
        "print(train_input[:5,0])        # train_input 샘플의 0번 feature\n",
        "print(train_input[:5,1])        # train_input 샘플의 1번 feature"
      ]
    },
    {
      "cell_type": "markdown",
      "metadata": {
        "id": "oPFW351FeWZG"
      },
      "source": [
        "# K - 최근접 이웃 모델 훈련\n",
        "- fit() 메서드를 진행할 때마다, KNeighborsClassifier 클래스의 객체는 이전에 학습한 모든 것을 잃어버린다."
      ]
    },
    {
      "cell_type": "code",
      "execution_count": 24,
      "metadata": {
        "id": "pJLtGO_CfGay"
      },
      "outputs": [],
      "source": [
        "kn = kn.fit(train_input, train_target)\n",
        "# 인덱스를 섞어 만든 train_input, train_target으로 모델을 훈련시킴."
      ]
    },
    {
      "cell_type": "code",
      "execution_count": 25,
      "metadata": {
        "colab": {
          "base_uri": "https://localhost:8080/"
        },
        "id": "BsVYL_G6fWOn",
        "outputId": "e5adb834-0f1a-4f0f-ee49-3e05afdbea97"
      },
      "outputs": [
        {
          "data": {
            "text/plain": [
              "1.0"
            ]
          },
          "execution_count": 25,
          "metadata": {},
          "output_type": "execute_result"
        }
      ],
      "source": [
        "# test_input 과 test_target으로 이 모델을 테스트할 차례\n",
        "kn.score(test_input, test_target)"
      ]
    },
    {
      "cell_type": "code",
      "execution_count": 26,
      "metadata": {
        "colab": {
          "base_uri": "https://localhost:8080/"
        },
        "id": "3EGIDGssfgBS",
        "outputId": "40654760-b0e5-4454-f11a-f52dbbaa2c14"
      },
      "outputs": [
        {
          "data": {
            "text/plain": [
              "array([0, 0, 1, 0, 1, 1, 1, 0, 1, 1, 0, 1, 1, 0])"
            ]
          },
          "execution_count": 26,
          "metadata": {},
          "output_type": "execute_result"
        }
      ],
      "source": [
        "# predict 메서드로 테스트세트 예측, 실제타깃 확인하기\n",
        "kn.predict(test_input)"
      ]
    },
    {
      "cell_type": "code",
      "execution_count": 27,
      "metadata": {
        "colab": {
          "base_uri": "https://localhost:8080/"
        },
        "id": "6CJUsA5Afnql",
        "outputId": "756849d4-2659-48b0-edfa-582af18eacb2"
      },
      "outputs": [
        {
          "data": {
            "text/plain": [
              "array([0, 0, 1, 0, 1, 1, 1, 0, 1, 1, 0, 1, 1, 0])"
            ]
          },
          "execution_count": 27,
          "metadata": {},
          "output_type": "execute_result"
        }
      ],
      "source": [
        "test_target"
      ]
    }
  ],
  "metadata": {
    "colab": {
      "authorship_tag": "ABX9TyMmfAp3lqA6KuDvYTV8OM2b",
      "collapsed_sections": [],
      "include_colab_link": true,
      "name": "02. 데이터 다루기.ipynb",
      "provenance": []
    },
    "kernelspec": {
      "display_name": "Python 3.8.13 ('tensorflow-dev')",
      "language": "python",
      "name": "python3"
    },
    "language_info": {
      "codemirror_mode": {
        "name": "ipython",
        "version": 3
      },
      "file_extension": ".py",
      "mimetype": "text/x-python",
      "name": "python",
      "nbconvert_exporter": "python",
      "pygments_lexer": "ipython3",
      "version": "3.8.13"
    },
    "vscode": {
      "interpreter": {
        "hash": "edf8c54a41a41a32cf49f70f45bd21c79eabf4cef1c0118d679d509e032472c8"
      }
    }
  },
  "nbformat": 4,
  "nbformat_minor": 0
}
