{
 "cells": [
  {
   "cell_type": "markdown",
   "metadata": {},
   "source": [
    "# 82_HAR USING PCA"
   ]
  },
  {
   "cell_type": "code",
   "execution_count": 26,
   "metadata": {},
   "outputs": [],
   "source": [
    "# human activity reconi"
   ]
  },
  {
   "cell_type": "code",
   "execution_count": 27,
   "metadata": {},
   "outputs": [],
   "source": [
    "import pandas as pd\n",
    "\n",
    "url ='https://raw.githubusercontent.com/PinkWink/ML_tutorial/master/dataset/HAR_dataset/features.txt'\n",
    "feature_name_df = pd.read_csv(url, sep='\\s+', header=None, names=['column_indx', 'column_name'])\n",
    "\n",
    "feature_name = feature_name_df.iloc[:,1].values.tolist()"
   ]
  },
  {
   "cell_type": "code",
   "execution_count": 28,
   "metadata": {},
   "outputs": [],
   "source": [
    "X_train_url = 'https://raw.githubusercontent.com/PinkWink/ML_tutorial/master/dataset/HAR_dataset/train/X_train.txt'\n",
    "X_test_url = 'https://raw.githubusercontent.com/PinkWink/ML_tutorial/master/dataset/HAR_dataset/test/X_test.txt'\n",
    "\n",
    "X_train = pd.read_csv(X_train_url, sep='\\s+', header=None)\n",
    "                                # sep : Delimiter(구분문자)) to use. If sep is None, the C engine cannot automatically detect the separator, but the Python parsing engine can, meaning the latter will be used and automatically detect the separator by Python's builtin sniffer tool, `csv.Sniffer`. \n",
    "                                # In addition, separators longer than 1 character and different from '\\s+' will be interpreted as regular expressions and will also force the use of the Python parsing engine. \n",
    "                                # Note that regex delimiters are prone to ignoring quoted data. Regex example: ' '.\n",
    "X_test = pd.read_csv(X_test_url, sep='\\s+', header=None)\n",
    "\n",
    "X_train.columns = feature_name\n",
    "X_test.columns = feature_name"
   ]
  },
  {
   "cell_type": "code",
   "execution_count": 72,
   "metadata": {},
   "outputs": [
    {
     "data": {
      "text/html": [
       "<div>\n",
       "<style scoped>\n",
       "    .dataframe tbody tr th:only-of-type {\n",
       "        vertical-align: middle;\n",
       "    }\n",
       "\n",
       "    .dataframe tbody tr th {\n",
       "        vertical-align: top;\n",
       "    }\n",
       "\n",
       "    .dataframe thead th {\n",
       "        text-align: right;\n",
       "    }\n",
       "</style>\n",
       "<table border=\"1\" class=\"dataframe\">\n",
       "  <thead>\n",
       "    <tr style=\"text-align: right;\">\n",
       "      <th></th>\n",
       "      <th>0</th>\n",
       "      <th>1</th>\n",
       "      <th>2</th>\n",
       "      <th>3</th>\n",
       "      <th>4</th>\n",
       "      <th>5</th>\n",
       "      <th>6</th>\n",
       "      <th>7</th>\n",
       "      <th>8</th>\n",
       "      <th>9</th>\n",
       "      <th>...</th>\n",
       "      <th>551</th>\n",
       "      <th>552</th>\n",
       "      <th>553</th>\n",
       "      <th>554</th>\n",
       "      <th>555</th>\n",
       "      <th>556</th>\n",
       "      <th>557</th>\n",
       "      <th>558</th>\n",
       "      <th>559</th>\n",
       "      <th>560</th>\n",
       "    </tr>\n",
       "  </thead>\n",
       "  <tbody>\n",
       "    <tr>\n",
       "      <th>0</th>\n",
       "      <td>0.288585</td>\n",
       "      <td>-0.020294</td>\n",
       "      <td>-0.132905</td>\n",
       "      <td>-0.995279</td>\n",
       "      <td>-0.983111</td>\n",
       "      <td>-0.913526</td>\n",
       "      <td>-0.995112</td>\n",
       "      <td>-0.983185</td>\n",
       "      <td>-0.923527</td>\n",
       "      <td>-0.934724</td>\n",
       "      <td>...</td>\n",
       "      <td>-0.074323</td>\n",
       "      <td>-0.298676</td>\n",
       "      <td>-0.710304</td>\n",
       "      <td>-0.112754</td>\n",
       "      <td>0.030400</td>\n",
       "      <td>-0.464761</td>\n",
       "      <td>-0.018446</td>\n",
       "      <td>-0.841247</td>\n",
       "      <td>0.179941</td>\n",
       "      <td>-0.058627</td>\n",
       "    </tr>\n",
       "    <tr>\n",
       "      <th>1</th>\n",
       "      <td>0.278419</td>\n",
       "      <td>-0.016411</td>\n",
       "      <td>-0.123520</td>\n",
       "      <td>-0.998245</td>\n",
       "      <td>-0.975300</td>\n",
       "      <td>-0.960322</td>\n",
       "      <td>-0.998807</td>\n",
       "      <td>-0.974914</td>\n",
       "      <td>-0.957686</td>\n",
       "      <td>-0.943068</td>\n",
       "      <td>...</td>\n",
       "      <td>0.158075</td>\n",
       "      <td>-0.595051</td>\n",
       "      <td>-0.861499</td>\n",
       "      <td>0.053477</td>\n",
       "      <td>-0.007435</td>\n",
       "      <td>-0.732626</td>\n",
       "      <td>0.703511</td>\n",
       "      <td>-0.844788</td>\n",
       "      <td>0.180289</td>\n",
       "      <td>-0.054317</td>\n",
       "    </tr>\n",
       "    <tr>\n",
       "      <th>2</th>\n",
       "      <td>0.279653</td>\n",
       "      <td>-0.019467</td>\n",
       "      <td>-0.113462</td>\n",
       "      <td>-0.995380</td>\n",
       "      <td>-0.967187</td>\n",
       "      <td>-0.978944</td>\n",
       "      <td>-0.996520</td>\n",
       "      <td>-0.963668</td>\n",
       "      <td>-0.977469</td>\n",
       "      <td>-0.938692</td>\n",
       "      <td>...</td>\n",
       "      <td>0.414503</td>\n",
       "      <td>-0.390748</td>\n",
       "      <td>-0.760104</td>\n",
       "      <td>-0.118559</td>\n",
       "      <td>0.177899</td>\n",
       "      <td>0.100699</td>\n",
       "      <td>0.808529</td>\n",
       "      <td>-0.848933</td>\n",
       "      <td>0.180637</td>\n",
       "      <td>-0.049118</td>\n",
       "    </tr>\n",
       "    <tr>\n",
       "      <th>3</th>\n",
       "      <td>0.279174</td>\n",
       "      <td>-0.026201</td>\n",
       "      <td>-0.123283</td>\n",
       "      <td>-0.996091</td>\n",
       "      <td>-0.983403</td>\n",
       "      <td>-0.990675</td>\n",
       "      <td>-0.997099</td>\n",
       "      <td>-0.982750</td>\n",
       "      <td>-0.989302</td>\n",
       "      <td>-0.938692</td>\n",
       "      <td>...</td>\n",
       "      <td>0.404573</td>\n",
       "      <td>-0.117290</td>\n",
       "      <td>-0.482845</td>\n",
       "      <td>-0.036788</td>\n",
       "      <td>-0.012892</td>\n",
       "      <td>0.640011</td>\n",
       "      <td>-0.485366</td>\n",
       "      <td>-0.848649</td>\n",
       "      <td>0.181935</td>\n",
       "      <td>-0.047663</td>\n",
       "    </tr>\n",
       "    <tr>\n",
       "      <th>4</th>\n",
       "      <td>0.276629</td>\n",
       "      <td>-0.016570</td>\n",
       "      <td>-0.115362</td>\n",
       "      <td>-0.998139</td>\n",
       "      <td>-0.980817</td>\n",
       "      <td>-0.990482</td>\n",
       "      <td>-0.998321</td>\n",
       "      <td>-0.979672</td>\n",
       "      <td>-0.990441</td>\n",
       "      <td>-0.942469</td>\n",
       "      <td>...</td>\n",
       "      <td>0.087753</td>\n",
       "      <td>-0.351471</td>\n",
       "      <td>-0.699205</td>\n",
       "      <td>0.123320</td>\n",
       "      <td>0.122542</td>\n",
       "      <td>0.693578</td>\n",
       "      <td>-0.615971</td>\n",
       "      <td>-0.847865</td>\n",
       "      <td>0.185151</td>\n",
       "      <td>-0.043892</td>\n",
       "    </tr>\n",
       "    <tr>\n",
       "      <th>...</th>\n",
       "      <td>...</td>\n",
       "      <td>...</td>\n",
       "      <td>...</td>\n",
       "      <td>...</td>\n",
       "      <td>...</td>\n",
       "      <td>...</td>\n",
       "      <td>...</td>\n",
       "      <td>...</td>\n",
       "      <td>...</td>\n",
       "      <td>...</td>\n",
       "      <td>...</td>\n",
       "      <td>...</td>\n",
       "      <td>...</td>\n",
       "      <td>...</td>\n",
       "      <td>...</td>\n",
       "      <td>...</td>\n",
       "      <td>...</td>\n",
       "      <td>...</td>\n",
       "      <td>...</td>\n",
       "      <td>...</td>\n",
       "      <td>...</td>\n",
       "    </tr>\n",
       "    <tr>\n",
       "      <th>7347</th>\n",
       "      <td>0.299665</td>\n",
       "      <td>-0.057193</td>\n",
       "      <td>-0.181233</td>\n",
       "      <td>-0.195387</td>\n",
       "      <td>0.039905</td>\n",
       "      <td>0.077078</td>\n",
       "      <td>-0.282301</td>\n",
       "      <td>0.043616</td>\n",
       "      <td>0.060410</td>\n",
       "      <td>0.210795</td>\n",
       "      <td>...</td>\n",
       "      <td>-0.070157</td>\n",
       "      <td>-0.588433</td>\n",
       "      <td>-0.880324</td>\n",
       "      <td>-0.190437</td>\n",
       "      <td>0.829718</td>\n",
       "      <td>0.206972</td>\n",
       "      <td>-0.425619</td>\n",
       "      <td>-0.791883</td>\n",
       "      <td>0.238604</td>\n",
       "      <td>0.049819</td>\n",
       "    </tr>\n",
       "    <tr>\n",
       "      <th>7348</th>\n",
       "      <td>0.273853</td>\n",
       "      <td>-0.007749</td>\n",
       "      <td>-0.147468</td>\n",
       "      <td>-0.235309</td>\n",
       "      <td>0.004816</td>\n",
       "      <td>0.059280</td>\n",
       "      <td>-0.322552</td>\n",
       "      <td>-0.029456</td>\n",
       "      <td>0.080585</td>\n",
       "      <td>0.117440</td>\n",
       "      <td>...</td>\n",
       "      <td>0.165259</td>\n",
       "      <td>-0.390738</td>\n",
       "      <td>-0.680744</td>\n",
       "      <td>0.064907</td>\n",
       "      <td>0.875679</td>\n",
       "      <td>-0.879033</td>\n",
       "      <td>0.400219</td>\n",
       "      <td>-0.771840</td>\n",
       "      <td>0.252676</td>\n",
       "      <td>0.050053</td>\n",
       "    </tr>\n",
       "    <tr>\n",
       "      <th>7349</th>\n",
       "      <td>0.273387</td>\n",
       "      <td>-0.017011</td>\n",
       "      <td>-0.045022</td>\n",
       "      <td>-0.218218</td>\n",
       "      <td>-0.103822</td>\n",
       "      <td>0.274533</td>\n",
       "      <td>-0.304515</td>\n",
       "      <td>-0.098913</td>\n",
       "      <td>0.332584</td>\n",
       "      <td>0.043999</td>\n",
       "      <td>...</td>\n",
       "      <td>0.195034</td>\n",
       "      <td>0.025145</td>\n",
       "      <td>-0.304029</td>\n",
       "      <td>0.052806</td>\n",
       "      <td>-0.266724</td>\n",
       "      <td>0.864404</td>\n",
       "      <td>0.701169</td>\n",
       "      <td>-0.779133</td>\n",
       "      <td>0.249145</td>\n",
       "      <td>0.040811</td>\n",
       "    </tr>\n",
       "    <tr>\n",
       "      <th>7350</th>\n",
       "      <td>0.289654</td>\n",
       "      <td>-0.018843</td>\n",
       "      <td>-0.158281</td>\n",
       "      <td>-0.219139</td>\n",
       "      <td>-0.111412</td>\n",
       "      <td>0.268893</td>\n",
       "      <td>-0.310487</td>\n",
       "      <td>-0.068200</td>\n",
       "      <td>0.319473</td>\n",
       "      <td>0.101702</td>\n",
       "      <td>...</td>\n",
       "      <td>0.013865</td>\n",
       "      <td>0.063907</td>\n",
       "      <td>-0.344314</td>\n",
       "      <td>-0.101360</td>\n",
       "      <td>0.700740</td>\n",
       "      <td>0.936674</td>\n",
       "      <td>-0.589479</td>\n",
       "      <td>-0.785181</td>\n",
       "      <td>0.246432</td>\n",
       "      <td>0.025339</td>\n",
       "    </tr>\n",
       "    <tr>\n",
       "      <th>7351</th>\n",
       "      <td>0.351503</td>\n",
       "      <td>-0.012423</td>\n",
       "      <td>-0.203867</td>\n",
       "      <td>-0.269270</td>\n",
       "      <td>-0.087212</td>\n",
       "      <td>0.177404</td>\n",
       "      <td>-0.377404</td>\n",
       "      <td>-0.038678</td>\n",
       "      <td>0.229430</td>\n",
       "      <td>0.269013</td>\n",
       "      <td>...</td>\n",
       "      <td>-0.058402</td>\n",
       "      <td>-0.387052</td>\n",
       "      <td>-0.740738</td>\n",
       "      <td>-0.280088</td>\n",
       "      <td>-0.007739</td>\n",
       "      <td>-0.056088</td>\n",
       "      <td>-0.616956</td>\n",
       "      <td>-0.783267</td>\n",
       "      <td>0.246809</td>\n",
       "      <td>0.036695</td>\n",
       "    </tr>\n",
       "  </tbody>\n",
       "</table>\n",
       "<p>7352 rows × 561 columns</p>\n",
       "</div>"
      ],
      "text/plain": [
       "           0         1         2         3         4         5         6    \\\n",
       "0     0.288585 -0.020294 -0.132905 -0.995279 -0.983111 -0.913526 -0.995112   \n",
       "1     0.278419 -0.016411 -0.123520 -0.998245 -0.975300 -0.960322 -0.998807   \n",
       "2     0.279653 -0.019467 -0.113462 -0.995380 -0.967187 -0.978944 -0.996520   \n",
       "3     0.279174 -0.026201 -0.123283 -0.996091 -0.983403 -0.990675 -0.997099   \n",
       "4     0.276629 -0.016570 -0.115362 -0.998139 -0.980817 -0.990482 -0.998321   \n",
       "...        ...       ...       ...       ...       ...       ...       ...   \n",
       "7347  0.299665 -0.057193 -0.181233 -0.195387  0.039905  0.077078 -0.282301   \n",
       "7348  0.273853 -0.007749 -0.147468 -0.235309  0.004816  0.059280 -0.322552   \n",
       "7349  0.273387 -0.017011 -0.045022 -0.218218 -0.103822  0.274533 -0.304515   \n",
       "7350  0.289654 -0.018843 -0.158281 -0.219139 -0.111412  0.268893 -0.310487   \n",
       "7351  0.351503 -0.012423 -0.203867 -0.269270 -0.087212  0.177404 -0.377404   \n",
       "\n",
       "           7         8         9    ...       551       552       553  \\\n",
       "0    -0.983185 -0.923527 -0.934724  ... -0.074323 -0.298676 -0.710304   \n",
       "1    -0.974914 -0.957686 -0.943068  ...  0.158075 -0.595051 -0.861499   \n",
       "2    -0.963668 -0.977469 -0.938692  ...  0.414503 -0.390748 -0.760104   \n",
       "3    -0.982750 -0.989302 -0.938692  ...  0.404573 -0.117290 -0.482845   \n",
       "4    -0.979672 -0.990441 -0.942469  ...  0.087753 -0.351471 -0.699205   \n",
       "...        ...       ...       ...  ...       ...       ...       ...   \n",
       "7347  0.043616  0.060410  0.210795  ... -0.070157 -0.588433 -0.880324   \n",
       "7348 -0.029456  0.080585  0.117440  ...  0.165259 -0.390738 -0.680744   \n",
       "7349 -0.098913  0.332584  0.043999  ...  0.195034  0.025145 -0.304029   \n",
       "7350 -0.068200  0.319473  0.101702  ...  0.013865  0.063907 -0.344314   \n",
       "7351 -0.038678  0.229430  0.269013  ... -0.058402 -0.387052 -0.740738   \n",
       "\n",
       "           554       555       556       557       558       559       560  \n",
       "0    -0.112754  0.030400 -0.464761 -0.018446 -0.841247  0.179941 -0.058627  \n",
       "1     0.053477 -0.007435 -0.732626  0.703511 -0.844788  0.180289 -0.054317  \n",
       "2    -0.118559  0.177899  0.100699  0.808529 -0.848933  0.180637 -0.049118  \n",
       "3    -0.036788 -0.012892  0.640011 -0.485366 -0.848649  0.181935 -0.047663  \n",
       "4     0.123320  0.122542  0.693578 -0.615971 -0.847865  0.185151 -0.043892  \n",
       "...        ...       ...       ...       ...       ...       ...       ...  \n",
       "7347 -0.190437  0.829718  0.206972 -0.425619 -0.791883  0.238604  0.049819  \n",
       "7348  0.064907  0.875679 -0.879033  0.400219 -0.771840  0.252676  0.050053  \n",
       "7349  0.052806 -0.266724  0.864404  0.701169 -0.779133  0.249145  0.040811  \n",
       "7350 -0.101360  0.700740  0.936674 -0.589479 -0.785181  0.246432  0.025339  \n",
       "7351 -0.280088 -0.007739 -0.056088 -0.616956 -0.783267  0.246809  0.036695  \n",
       "\n",
       "[7352 rows x 561 columns]"
      ]
     },
     "execution_count": 72,
     "metadata": {},
     "output_type": "execute_result"
    }
   ],
   "source": [
    "sep_test = pd.read_csv(X_train_url, sep='\\s+', header=None)\n",
    "sep_test"
   ]
  },
  {
   "cell_type": "code",
   "execution_count": 29,
   "metadata": {},
   "outputs": [],
   "source": [
    "y_train_url = 'https://raw.githubusercontent.com/PinkWink/ML_tutorial/master/dataset/HAR_dataset/train/y_train.txt'\n",
    "y_test_url = 'https://raw.githubusercontent.com/PinkWink/ML_tutorial/master/dataset/HAR_dataset/test/y_test.txt'\n",
    "\n",
    "y_train = pd.read_csv(y_train_url, sep='\\s+', header=None)\n",
    "y_test = pd.read_csv(y_test_url, sep='\\s+', header=None)"
   ]
  },
  {
   "cell_type": "code",
   "execution_count": 30,
   "metadata": {},
   "outputs": [
    {
     "data": {
      "text/plain": [
       "((7352, 561), (2947, 561), (7352, 1), (2947, 1))"
      ]
     },
     "execution_count": 30,
     "metadata": {},
     "output_type": "execute_result"
    }
   ],
   "source": [
    "X_train.shape, X_test.shape, y_train.shape, y_test.shape"
   ]
  },
  {
   "cell_type": "code",
   "execution_count": 31,
   "metadata": {},
   "outputs": [],
   "source": [
    "from sklearn.decomposition import PCA\n",
    "\n",
    "def get_pca_data(ss_data, n_components=2):\n",
    "    pca = PCA(n_components=n_components)\n",
    "    pca.fit(ss_data)\n",
    "\n",
    "    return pca.transform(ss_data), pca"
   ]
  },
  {
   "cell_type": "code",
   "execution_count": 32,
   "metadata": {},
   "outputs": [
    {
     "name": "stdout",
     "output_type": "stream",
     "text": [
      "CPU times: user 1.01 s, sys: 200 ms, total: 1.21 s\n",
      "Wall time: 256 ms\n"
     ]
    },
    {
     "data": {
      "text/plain": [
       "(7352, 2)"
      ]
     },
     "execution_count": 32,
     "metadata": {},
     "output_type": "execute_result"
    }
   ],
   "source": [
    "%%time\n",
    "HAR_pca, pca = get_pca_data(X_train, n_components=2)\n",
    "HAR_pca.shape"
   ]
  },
  {
   "cell_type": "code",
   "execution_count": 33,
   "metadata": {},
   "outputs": [
    {
     "data": {
      "text/plain": [
       "((561,), (2, 561))"
      ]
     },
     "execution_count": 33,
     "metadata": {},
     "output_type": "execute_result"
    }
   ],
   "source": [
    "pca.mean_.shape, pca.components_.shape"
   ]
  },
  {
   "cell_type": "code",
   "execution_count": 34,
   "metadata": {},
   "outputs": [
    {
     "data": {
      "text/plain": [
       "['pca_0', 'pca_1']"
      ]
     },
     "execution_count": 34,
     "metadata": {},
     "output_type": "execute_result"
    }
   ],
   "source": [
    "cols = ['pca_' + str(n) for n in range(pca.components_.shape[0])]\n",
    "cols"
   ]
  },
  {
   "cell_type": "code",
   "execution_count": 35,
   "metadata": {},
   "outputs": [],
   "source": [
    "def get_pd_from_pca(pca_data, col_num):\n",
    "    cols = ['pca_' + str(n) for n in range(pca.components_.shape[0])]\n",
    "    return pd.DataFrame(pca_data, columns=cols)"
   ]
  },
  {
   "cell_type": "code",
   "execution_count": 36,
   "metadata": {},
   "outputs": [
    {
     "name": "stdout",
     "output_type": "stream",
     "text": [
      "CPU times: user 749 ms, sys: 109 ms, total: 858 ms\n",
      "Wall time: 145 ms\n"
     ]
    },
    {
     "data": {
      "text/html": [
       "<div>\n",
       "<style scoped>\n",
       "    .dataframe tbody tr th:only-of-type {\n",
       "        vertical-align: middle;\n",
       "    }\n",
       "\n",
       "    .dataframe tbody tr th {\n",
       "        vertical-align: top;\n",
       "    }\n",
       "\n",
       "    .dataframe thead th {\n",
       "        text-align: right;\n",
       "    }\n",
       "</style>\n",
       "<table border=\"1\" class=\"dataframe\">\n",
       "  <thead>\n",
       "    <tr style=\"text-align: right;\">\n",
       "      <th></th>\n",
       "      <th>pca_0</th>\n",
       "      <th>pca_1</th>\n",
       "      <th>action</th>\n",
       "    </tr>\n",
       "  </thead>\n",
       "  <tbody>\n",
       "    <tr>\n",
       "      <th>0</th>\n",
       "      <td>-5.520280</td>\n",
       "      <td>-0.290277</td>\n",
       "      <td>5</td>\n",
       "    </tr>\n",
       "    <tr>\n",
       "      <th>1</th>\n",
       "      <td>-5.535350</td>\n",
       "      <td>-0.082530</td>\n",
       "      <td>5</td>\n",
       "    </tr>\n",
       "    <tr>\n",
       "      <th>2</th>\n",
       "      <td>-5.474988</td>\n",
       "      <td>0.287387</td>\n",
       "      <td>5</td>\n",
       "    </tr>\n",
       "    <tr>\n",
       "      <th>3</th>\n",
       "      <td>-5.677232</td>\n",
       "      <td>0.897031</td>\n",
       "      <td>5</td>\n",
       "    </tr>\n",
       "    <tr>\n",
       "      <th>4</th>\n",
       "      <td>-5.748749</td>\n",
       "      <td>1.162952</td>\n",
       "      <td>5</td>\n",
       "    </tr>\n",
       "  </tbody>\n",
       "</table>\n",
       "</div>"
      ],
      "text/plain": [
       "      pca_0     pca_1  action\n",
       "0 -5.520280 -0.290277       5\n",
       "1 -5.535350 -0.082530       5\n",
       "2 -5.474988  0.287387       5\n",
       "3 -5.677232  0.897031       5\n",
       "4 -5.748749  1.162952       5"
      ]
     },
     "execution_count": 36,
     "metadata": {},
     "output_type": "execute_result"
    }
   ],
   "source": [
    "%%time\n",
    "HAR_pca, pca = get_pca_data(X_train, n_components=2)\n",
    "HAR_pd_pca = get_pd_from_pca(HAR_pca, pca.components_.shape[0])\n",
    "HAR_pd_pca['action'] = y_train\n",
    "HAR_pd_pca.head()"
   ]
  },
  {
   "cell_type": "code",
   "execution_count": 37,
   "metadata": {},
   "outputs": [
    {
     "data": {
      "text/plain": [
       "<seaborn.axisgrid.PairGrid at 0x178c3d1f0>"
      ]
     },
     "execution_count": 37,
     "metadata": {},
     "output_type": "execute_result"
    },
    {
     "data": {
      "image/png": "[encoded data removed]",
      "text/plain": [
       "<Figure size 402.375x360 with 1 Axes>"
      ]
     },
     "metadata": {
      "needs_background": "light"
     },
     "output_type": "display_data"
    }
   ],
   "source": [
    "import seaborn as sns\n",
    "sns.pairplot(HAR_pd_pca, hue='action', height=5, x_vars=['pca_0'], y_vars=['pca_1'])"
   ]
  },
  {
   "cell_type": "code",
   "execution_count": 40,
   "metadata": {},
   "outputs": [],
   "source": [
    "import numpy as np\n",
    "\n",
    "def print_variance_ratio(pca):\n",
    "    print('variance ratio : ', pca.explained_variance_ratio_)\n",
    "    print('sum of variance ratio : ', np.sum(pca.explained_variance_ratio_))"
   ]
  },
  {
   "cell_type": "code",
   "execution_count": 41,
   "metadata": {},
   "outputs": [
    {
     "name": "stdout",
     "output_type": "stream",
     "text": [
      "variance ratio :  [0.6255444  0.04913023]\n",
      "sum of variance ratio :  0.674674627048795\n"
     ]
    }
   ],
   "source": [
    "print_variance_ratio(pca)"
   ]
  },
  {
   "cell_type": "code",
   "execution_count": 43,
   "metadata": {},
   "outputs": [
    {
     "data": {
      "text/html": [
       "<div>\n",
       "<style scoped>\n",
       "    .dataframe tbody tr th:only-of-type {\n",
       "        vertical-align: middle;\n",
       "    }\n",
       "\n",
       "    .dataframe tbody tr th {\n",
       "        vertical-align: top;\n",
       "    }\n",
       "\n",
       "    .dataframe thead th {\n",
       "        text-align: right;\n",
       "    }\n",
       "</style>\n",
       "<table border=\"1\" class=\"dataframe\">\n",
       "  <thead>\n",
       "    <tr style=\"text-align: right;\">\n",
       "      <th></th>\n",
       "      <th>pca_0</th>\n",
       "      <th>pca_1</th>\n",
       "      <th>pca_2</th>\n",
       "      <th>action</th>\n",
       "    </tr>\n",
       "  </thead>\n",
       "  <tbody>\n",
       "    <tr>\n",
       "      <th>0</th>\n",
       "      <td>-5.520280</td>\n",
       "      <td>-0.290278</td>\n",
       "      <td>-1.529929</td>\n",
       "      <td>5</td>\n",
       "    </tr>\n",
       "    <tr>\n",
       "      <th>1</th>\n",
       "      <td>-5.535350</td>\n",
       "      <td>-0.082530</td>\n",
       "      <td>-1.924804</td>\n",
       "      <td>5</td>\n",
       "    </tr>\n",
       "    <tr>\n",
       "      <th>2</th>\n",
       "      <td>-5.474988</td>\n",
       "      <td>0.287387</td>\n",
       "      <td>-2.144642</td>\n",
       "      <td>5</td>\n",
       "    </tr>\n",
       "    <tr>\n",
       "      <th>3</th>\n",
       "      <td>-5.677232</td>\n",
       "      <td>0.897031</td>\n",
       "      <td>-2.018220</td>\n",
       "      <td>5</td>\n",
       "    </tr>\n",
       "    <tr>\n",
       "      <th>4</th>\n",
       "      <td>-5.748749</td>\n",
       "      <td>1.162952</td>\n",
       "      <td>-2.139533</td>\n",
       "      <td>5</td>\n",
       "    </tr>\n",
       "  </tbody>\n",
       "</table>\n",
       "</div>"
      ],
      "text/plain": [
       "      pca_0     pca_1     pca_2  action\n",
       "0 -5.520280 -0.290278 -1.529929       5\n",
       "1 -5.535350 -0.082530 -1.924804       5\n",
       "2 -5.474988  0.287387 -2.144642       5\n",
       "3 -5.677232  0.897031 -2.018220       5\n",
       "4 -5.748749  1.162952 -2.139533       5"
      ]
     },
     "execution_count": 43,
     "metadata": {},
     "output_type": "execute_result"
    }
   ],
   "source": [
    "# n_components = 3\n",
    "\n",
    "HAR_pca, pca = get_pca_data(X_train, n_components=3)\n",
    "HAR_pd_pca = get_pd_from_pca(HAR_pca, pca.components_.shape[0])\n",
    "HAR_pd_pca['action'] = y_train\n",
    "HAR_pd_pca.head()"
   ]
  },
  {
   "cell_type": "code",
   "execution_count": 44,
   "metadata": {},
   "outputs": [
    {
     "name": "stdout",
     "output_type": "stream",
     "text": [
      "variance ratio :  [0.6255444  0.04913023 0.04121467]\n",
      "sum of variance ratio :  0.7158893015785985\n"
     ]
    }
   ],
   "source": [
    "print_variance_ratio(pca)"
   ]
  },
  {
   "cell_type": "code",
   "execution_count": 45,
   "metadata": {},
   "outputs": [
    {
     "name": "stdout",
     "output_type": "stream",
     "text": [
      "variance ratio :  [0.6255444  0.04913023 0.04121467 0.01874956 0.0169486  0.01272069\n",
      " 0.01176685 0.01068972 0.00969378 0.00858018]\n",
      "sum of variance ratio :  0.8050386886881719\n"
     ]
    }
   ],
   "source": [
    "# n_components = 10\n",
    "\n",
    "HAR_pca, pca = get_pca_data(X_train, n_components=10)\n",
    "HAR_pd_pca = get_pd_from_pca(HAR_pca, pca.components_.shape[0])\n",
    "HAR_pd_pca['action'] = y_train\n",
    "HAR_pd_pca.head()\n",
    "\n",
    "print_variance_ratio(pca)"
   ]
  },
  {
   "cell_type": "code",
   "execution_count": 46,
   "metadata": {},
   "outputs": [
    {
     "name": "stdout",
     "output_type": "stream",
     "text": [
      "CPU times: user 4.13 s, sys: 254 ms, total: 4.38 s\n",
      "Wall time: 18.2 s\n"
     ]
    },
    {
     "data": {
      "text/plain": [
       "GridSearchCV(cv=2, estimator=RandomForestClassifier(n_jobs=-1, random_state=13),\n",
       "             n_jobs=-1,\n",
       "             param_grid={'max_depth': [6, 8, 10], 'min_samples_leaf': [8, 12],\n",
       "                         'min_samples_split': [8, 12],\n",
       "                         'n_estimators': [50, 100, 200]})"
      ]
     },
     "execution_count": 46,
     "metadata": {},
     "output_type": "execute_result"
    }
   ],
   "source": [
    "%%time\n",
    "\n",
    "## 시간이 길게 나왔다면(?)\n",
    "from sklearn.model_selection import GridSearchCV\n",
    "from sklearn.ensemble import RandomForestClassifier\n",
    "\n",
    "params = {\n",
    "    'max_depth' : [6,8,10],\n",
    "    'n_estimators' : [50, 100, 200],\n",
    "    'min_samples_leaf' : [8,12],\n",
    "    'min_samples_split' : [8,12]\n",
    "}\n",
    "\n",
    "rf_clf = RandomForestClassifier(random_state=13, n_jobs=-1)\n",
    "                                                # n_jobs : The number of jobs to run in parallel. // -1 means using all processors.\n",
    "grid_cv = GridSearchCV(rf_clf, param_grid=params, cv=2, n_jobs=-1)\n",
    "                                # param_grid : Dictionary with parameters names (str) as keys and lists of parameter settings to try as values, \n",
    "                                # or a list of such dictionaries, `in which case the grids spanned by each dictionary in the list are explored`. \n",
    "                                # This enables searching over any sequence of parameter settings.\n",
    "grid_cv.fit(HAR_pca, y_train.values.reshape(-1,))"
   ]
  },
  {
   "cell_type": "code",
   "execution_count": 47,
   "metadata": {},
   "outputs": [
    {
     "data": {
      "text/plain": [
       "Index(['mean_fit_time', 'std_fit_time', 'mean_score_time', 'std_score_time',\n",
       "       'param_max_depth', 'param_min_samples_leaf', 'param_min_samples_split',\n",
       "       'param_n_estimators', 'params', 'split0_test_score',\n",
       "       'split1_test_score', 'mean_test_score', 'std_test_score',\n",
       "       'rank_test_score'],\n",
       "      dtype='object')"
      ]
     },
     "execution_count": 47,
     "metadata": {},
     "output_type": "execute_result"
    }
   ],
   "source": [
    "# 성능 확인\n",
    "cv_results_df = pd.DataFrame(grid_cv.cv_results_)\n",
    "cv_results_df.columns"
   ]
  },
  {
   "cell_type": "code",
   "execution_count": 48,
   "metadata": {},
   "outputs": [
    {
     "data": {
      "text/html": [
       "<div>\n",
       "<style scoped>\n",
       "    .dataframe tbody tr th:only-of-type {\n",
       "        vertical-align: middle;\n",
       "    }\n",
       "\n",
       "    .dataframe tbody tr th {\n",
       "        vertical-align: top;\n",
       "    }\n",
       "\n",
       "    .dataframe thead th {\n",
       "        text-align: right;\n",
       "    }\n",
       "</style>\n",
       "<table border=\"1\" class=\"dataframe\">\n",
       "  <thead>\n",
       "    <tr style=\"text-align: right;\">\n",
       "      <th></th>\n",
       "      <th>rank_test_score</th>\n",
       "      <th>mean_test_score</th>\n",
       "      <th>param_n_estimators</th>\n",
       "      <th>param_max_depth</th>\n",
       "    </tr>\n",
       "  </thead>\n",
       "  <tbody>\n",
       "    <tr>\n",
       "      <th>17</th>\n",
       "      <td>1</td>\n",
       "      <td>0.838547</td>\n",
       "      <td>200</td>\n",
       "      <td>8</td>\n",
       "    </tr>\n",
       "    <tr>\n",
       "      <th>14</th>\n",
       "      <td>1</td>\n",
       "      <td>0.838547</td>\n",
       "      <td>200</td>\n",
       "      <td>8</td>\n",
       "    </tr>\n",
       "    <tr>\n",
       "      <th>29</th>\n",
       "      <td>3</td>\n",
       "      <td>0.837323</td>\n",
       "      <td>200</td>\n",
       "      <td>10</td>\n",
       "    </tr>\n",
       "    <tr>\n",
       "      <th>26</th>\n",
       "      <td>3</td>\n",
       "      <td>0.837323</td>\n",
       "      <td>200</td>\n",
       "      <td>10</td>\n",
       "    </tr>\n",
       "    <tr>\n",
       "      <th>32</th>\n",
       "      <td>5</td>\n",
       "      <td>0.836915</td>\n",
       "      <td>200</td>\n",
       "      <td>10</td>\n",
       "    </tr>\n",
       "  </tbody>\n",
       "</table>\n",
       "</div>"
      ],
      "text/plain": [
       "    rank_test_score  mean_test_score param_n_estimators param_max_depth\n",
       "17                1         0.838547                200               8\n",
       "14                1         0.838547                200               8\n",
       "29                3         0.837323                200              10\n",
       "26                3         0.837323                200              10\n",
       "32                5         0.836915                200              10"
      ]
     },
     "execution_count": 48,
     "metadata": {},
     "output_type": "execute_result"
    }
   ],
   "source": [
    "target_col = ['rank_test_score','mean_test_score','param_n_estimators','param_max_depth']\n",
    "cv_results_df[target_col].sort_values('rank_test_score').head()"
   ]
  },
  {
   "cell_type": "code",
   "execution_count": 49,
   "metadata": {},
   "outputs": [
    {
     "data": {
      "text/plain": [
       "{'max_depth': 8,\n",
       " 'min_samples_leaf': 8,\n",
       " 'min_samples_split': 8,\n",
       " 'n_estimators': 200}"
      ]
     },
     "execution_count": 49,
     "metadata": {},
     "output_type": "execute_result"
    }
   ],
   "source": [
    "grid_cv.best_params_"
   ]
  },
  {
   "cell_type": "code",
   "execution_count": 50,
   "metadata": {},
   "outputs": [
    {
     "data": {
      "text/plain": [
       "0.8385473340587595"
      ]
     },
     "execution_count": 50,
     "metadata": {},
     "output_type": "execute_result"
    }
   ],
   "source": [
    "grid_cv.best_score_"
   ]
  },
  {
   "cell_type": "code",
   "execution_count": 51,
   "metadata": {},
   "outputs": [
    {
     "data": {
      "text/plain": [
       "0.8537495758398371"
      ]
     },
     "execution_count": 51,
     "metadata": {},
     "output_type": "execute_result"
    }
   ],
   "source": [
    "## 테스트 데이터에 적용해보기\n",
    "from sklearn.metrics import accuracy_score\n",
    "\n",
    "rf_clf_best = grid_cv.best_estimator_\n",
    "rf_clf_best.fit(HAR_pca, y_train.values.reshape(-1,))\n",
    "\n",
    "pred1 = rf_clf_best.predict(pca.transform(X_test))\n",
    "                                            # PCA가 안된 X_test 데이터를 predict 해야한다.\n",
    "                                            # test 데이터는 pca를 하면 오염되서 안된다. // fit만 pca를 하던 뭘하던 해야한다.\n",
    "accuracy_score(y_test, pred1)"
   ]
  },
  {
   "cell_type": "code",
   "execution_count": 52,
   "metadata": {},
   "outputs": [
    {
     "name": "stdout",
     "output_type": "stream",
     "text": [
      "[17:03:50] WARNING: ../src/learner.cc:1115: Starting in XGBoost 1.3.0, the default evaluation metric used with the objective 'multi:softprob' was changed from 'merror' to 'mlogloss'. Explicitly set eval_metric if you'd like to restore the old behavior.\n",
      "[0]\tvalidation_0-mlogloss:1.61433\n",
      "[1]\tvalidation_0-mlogloss:1.47590\n",
      "[2]\tvalidation_0-mlogloss:1.35839\n",
      "[3]\tvalidation_0-mlogloss:1.26296\n",
      "[4]\tvalidation_0-mlogloss:1.18077\n"
     ]
    },
    {
     "name": "stderr",
     "output_type": "stream",
     "text": [
      "/Users/newrandom/miniforge3/envs/ds_study/lib/python3.8/site-packages/xgboost/sklearn.py:1224: UserWarning: The use of label encoder in XGBClassifier is deprecated and will be removed in a future release. To remove this warning, do the following: 1) Pass option use_label_encoder=False when constructing XGBClassifier object; and 2) Encode your labels (y) as integers starting with 0, i.e. 0, 1, 2, ..., [num_class - 1].\n",
      "  warnings.warn(label_encoder_deprecation_msg, UserWarning)\n",
      "/Users/newrandom/miniforge3/envs/ds_study/lib/python3.8/site-packages/sklearn/preprocessing/_label.py:133: DataConversionWarning: A column-vector y was passed when a 1d array was expected. Please change the shape of y to (n_samples, ), for example using ravel().\n",
      "  y = column_or_1d(y, warn=True)\n"
     ]
    },
    {
     "name": "stdout",
     "output_type": "stream",
     "text": [
      "[5]\tvalidation_0-mlogloss:1.11094\n",
      "[6]\tvalidation_0-mlogloss:1.04465\n",
      "[7]\tvalidation_0-mlogloss:0.98875\n",
      "[8]\tvalidation_0-mlogloss:0.93994\n",
      "[9]\tvalidation_0-mlogloss:0.89270\n",
      "[10]\tvalidation_0-mlogloss:0.85165\n",
      "[11]\tvalidation_0-mlogloss:0.81230\n",
      "[12]\tvalidation_0-mlogloss:0.77985\n",
      "[13]\tvalidation_0-mlogloss:0.74964\n",
      "[14]\tvalidation_0-mlogloss:0.72269\n",
      "[15]\tvalidation_0-mlogloss:0.69824\n",
      "[16]\tvalidation_0-mlogloss:0.67651\n",
      "[17]\tvalidation_0-mlogloss:0.65557\n",
      "[18]\tvalidation_0-mlogloss:0.63704\n",
      "[19]\tvalidation_0-mlogloss:0.61982\n",
      "[20]\tvalidation_0-mlogloss:0.60269\n",
      "[21]\tvalidation_0-mlogloss:0.58717\n",
      "[22]\tvalidation_0-mlogloss:0.57172\n",
      "[23]\tvalidation_0-mlogloss:0.55919\n",
      "[24]\tvalidation_0-mlogloss:0.54628\n",
      "[25]\tvalidation_0-mlogloss:0.53408\n",
      "[26]\tvalidation_0-mlogloss:0.52412\n",
      "[27]\tvalidation_0-mlogloss:0.51484\n",
      "[28]\tvalidation_0-mlogloss:0.50539\n",
      "[29]\tvalidation_0-mlogloss:0.49724\n",
      "[30]\tvalidation_0-mlogloss:0.48927\n",
      "[31]\tvalidation_0-mlogloss:0.48166\n",
      "[32]\tvalidation_0-mlogloss:0.47396\n",
      "[33]\tvalidation_0-mlogloss:0.46732\n",
      "[34]\tvalidation_0-mlogloss:0.46104\n",
      "[35]\tvalidation_0-mlogloss:0.45543\n",
      "[36]\tvalidation_0-mlogloss:0.44941\n",
      "[37]\tvalidation_0-mlogloss:0.44435\n",
      "[38]\tvalidation_0-mlogloss:0.43937\n",
      "[39]\tvalidation_0-mlogloss:0.43405\n",
      "[40]\tvalidation_0-mlogloss:0.43007\n",
      "[41]\tvalidation_0-mlogloss:0.42554\n",
      "[42]\tvalidation_0-mlogloss:0.42130\n",
      "[43]\tvalidation_0-mlogloss:0.41651\n",
      "[44]\tvalidation_0-mlogloss:0.41224\n",
      "[45]\tvalidation_0-mlogloss:0.40915\n",
      "[46]\tvalidation_0-mlogloss:0.40515\n",
      "[47]\tvalidation_0-mlogloss:0.40256\n",
      "[48]\tvalidation_0-mlogloss:0.39934\n",
      "[49]\tvalidation_0-mlogloss:0.39583\n",
      "[50]\tvalidation_0-mlogloss:0.39277\n",
      "[51]\tvalidation_0-mlogloss:0.38957\n",
      "[52]\tvalidation_0-mlogloss:0.38688\n",
      "[53]\tvalidation_0-mlogloss:0.38403\n",
      "[54]\tvalidation_0-mlogloss:0.38179\n",
      "[55]\tvalidation_0-mlogloss:0.37940\n",
      "[56]\tvalidation_0-mlogloss:0.37716\n",
      "[57]\tvalidation_0-mlogloss:0.37533\n",
      "[58]\tvalidation_0-mlogloss:0.37311\n",
      "[59]\tvalidation_0-mlogloss:0.37118\n",
      "[60]\tvalidation_0-mlogloss:0.36906\n",
      "[61]\tvalidation_0-mlogloss:0.36640\n",
      "[62]\tvalidation_0-mlogloss:0.36437\n",
      "[63]\tvalidation_0-mlogloss:0.36284\n",
      "[64]\tvalidation_0-mlogloss:0.36161\n",
      "[65]\tvalidation_0-mlogloss:0.35994\n",
      "[66]\tvalidation_0-mlogloss:0.35824\n",
      "[67]\tvalidation_0-mlogloss:0.35661\n",
      "[68]\tvalidation_0-mlogloss:0.35490\n",
      "[69]\tvalidation_0-mlogloss:0.35339\n",
      "[70]\tvalidation_0-mlogloss:0.35189\n",
      "[71]\tvalidation_0-mlogloss:0.35086\n",
      "[72]\tvalidation_0-mlogloss:0.35048\n",
      "[73]\tvalidation_0-mlogloss:0.34931\n",
      "[74]\tvalidation_0-mlogloss:0.34827\n",
      "[75]\tvalidation_0-mlogloss:0.34743\n",
      "[76]\tvalidation_0-mlogloss:0.34601\n",
      "[77]\tvalidation_0-mlogloss:0.34523\n",
      "[78]\tvalidation_0-mlogloss:0.34457\n",
      "[79]\tvalidation_0-mlogloss:0.34333\n",
      "[80]\tvalidation_0-mlogloss:0.34274\n",
      "[81]\tvalidation_0-mlogloss:0.34148\n",
      "[82]\tvalidation_0-mlogloss:0.34084\n",
      "[83]\tvalidation_0-mlogloss:0.33959\n",
      "[84]\tvalidation_0-mlogloss:0.33888\n",
      "[85]\tvalidation_0-mlogloss:0.33811\n",
      "[86]\tvalidation_0-mlogloss:0.33728\n",
      "[87]\tvalidation_0-mlogloss:0.33615\n",
      "[88]\tvalidation_0-mlogloss:0.33585\n",
      "[89]\tvalidation_0-mlogloss:0.33563\n",
      "[90]\tvalidation_0-mlogloss:0.33533\n",
      "[91]\tvalidation_0-mlogloss:0.33425\n",
      "[92]\tvalidation_0-mlogloss:0.33402\n",
      "[93]\tvalidation_0-mlogloss:0.33337\n",
      "[94]\tvalidation_0-mlogloss:0.33325\n",
      "[95]\tvalidation_0-mlogloss:0.33221\n",
      "[96]\tvalidation_0-mlogloss:0.33205\n",
      "[97]\tvalidation_0-mlogloss:0.33130\n",
      "[98]\tvalidation_0-mlogloss:0.33084\n",
      "[99]\tvalidation_0-mlogloss:0.33027\n",
      "[100]\tvalidation_0-mlogloss:0.33010\n",
      "[101]\tvalidation_0-mlogloss:0.33001\n",
      "[102]\tvalidation_0-mlogloss:0.32944\n",
      "[103]\tvalidation_0-mlogloss:0.32916\n",
      "[104]\tvalidation_0-mlogloss:0.32854\n",
      "[105]\tvalidation_0-mlogloss:0.32809\n",
      "[106]\tvalidation_0-mlogloss:0.32797\n",
      "[107]\tvalidation_0-mlogloss:0.32796\n",
      "[108]\tvalidation_0-mlogloss:0.32754\n",
      "[109]\tvalidation_0-mlogloss:0.32759\n",
      "[110]\tvalidation_0-mlogloss:0.32740\n",
      "[111]\tvalidation_0-mlogloss:0.32644\n",
      "[112]\tvalidation_0-mlogloss:0.32602\n",
      "[113]\tvalidation_0-mlogloss:0.32559\n",
      "[114]\tvalidation_0-mlogloss:0.32548\n",
      "[115]\tvalidation_0-mlogloss:0.32550\n",
      "[116]\tvalidation_0-mlogloss:0.32548\n",
      "[117]\tvalidation_0-mlogloss:0.32522\n",
      "[118]\tvalidation_0-mlogloss:0.32541\n",
      "[119]\tvalidation_0-mlogloss:0.32541\n",
      "[120]\tvalidation_0-mlogloss:0.32537\n",
      "[121]\tvalidation_0-mlogloss:0.32519\n",
      "[122]\tvalidation_0-mlogloss:0.32526\n",
      "[123]\tvalidation_0-mlogloss:0.32519\n",
      "[124]\tvalidation_0-mlogloss:0.32495\n",
      "[125]\tvalidation_0-mlogloss:0.32417\n",
      "[126]\tvalidation_0-mlogloss:0.32428\n",
      "[127]\tvalidation_0-mlogloss:0.32318\n",
      "[128]\tvalidation_0-mlogloss:0.32332\n",
      "[129]\tvalidation_0-mlogloss:0.32350\n",
      "[130]\tvalidation_0-mlogloss:0.32327\n",
      "[131]\tvalidation_0-mlogloss:0.32296\n",
      "[132]\tvalidation_0-mlogloss:0.32277\n",
      "[133]\tvalidation_0-mlogloss:0.32311\n",
      "[134]\tvalidation_0-mlogloss:0.32272\n",
      "[135]\tvalidation_0-mlogloss:0.32272\n",
      "[136]\tvalidation_0-mlogloss:0.32230\n",
      "[137]\tvalidation_0-mlogloss:0.32257\n",
      "[138]\tvalidation_0-mlogloss:0.32246\n",
      "[139]\tvalidation_0-mlogloss:0.32245\n",
      "[140]\tvalidation_0-mlogloss:0.32230\n",
      "[141]\tvalidation_0-mlogloss:0.32247\n",
      "[142]\tvalidation_0-mlogloss:0.32245\n",
      "[143]\tvalidation_0-mlogloss:0.32273\n",
      "[144]\tvalidation_0-mlogloss:0.32291\n",
      "[145]\tvalidation_0-mlogloss:0.32283\n",
      "[146]\tvalidation_0-mlogloss:0.32314\n",
      "CPU times: user 15 s, sys: 3.33 s, total: 18.3 s\n",
      "Wall time: 4.64 s\n"
     ]
    },
    {
     "data": {
      "text/plain": [
       "XGBClassifier(base_score=0.5, booster='gbtree', colsample_bylevel=1,\n",
       "              colsample_bynode=1, colsample_bytree=1, enable_categorical=False,\n",
       "              gamma=0, gpu_id=-1, importance_type=None,\n",
       "              interaction_constraints='', learning_rate=0.1, max_delta_step=0,\n",
       "              max_depth=3, min_child_weight=1, missing=nan,\n",
       "              monotone_constraints='()', n_estimators=400, n_jobs=8,\n",
       "              num_parallel_tree=1, objective='multi:softprob', predictor='auto',\n",
       "              random_state=0, reg_alpha=0, reg_lambda=1, scale_pos_weight=None,\n",
       "              subsample=1, tree_method='exact', validate_parameters=1,\n",
       "              verbosity=None)"
      ]
     },
     "execution_count": 52,
     "metadata": {},
     "output_type": "execute_result"
    }
   ],
   "source": [
    "%%time\n",
    "## xgboost 시도!\n",
    "from xgboost import XGBClassifier\n",
    "\n",
    "evals = [(pca.transform(X_test), y_test)]\n",
    "\n",
    "xgb = XGBClassifier(n_estimators = 400, learning_rate=0.1, max_depth=3)\n",
    "xgb.fit(HAR_pca, y_train.values.reshape(-1,), early_stopping_rounds=10, eval_set=evals)"
   ]
  },
  {
   "cell_type": "code",
   "execution_count": 53,
   "metadata": {},
   "outputs": [
    {
     "data": {
      "text/plain": [
       "0.8646080760095012"
      ]
     },
     "execution_count": 53,
     "metadata": {},
     "output_type": "execute_result"
    }
   ],
   "source": [
    "accuracy_score(y_test, xgb.predict(pca.transform(X_test)))"
   ]
  },
  {
   "cell_type": "code",
   "execution_count": null,
   "metadata": {},
   "outputs": [],
   "source": []
  }
 ],
 "metadata": {
  "interpreter": {
   "hash": "87ca1d6ab9f465f53e65f605edcd7bd5e587820eac99c13303a6570f5c29f59a"
  },
  "kernelspec": {
   "display_name": "Python 3.8.11 ('ds_study')",
   "language": "python",
   "name": "python3"
  },
  "language_info": {
   "codemirror_mode": {
    "name": "ipython",
    "version": 3
   },
   "file_extension": ".py",
   "mimetype": "text/x-python",
   "name": "python",
   "nbconvert_exporter": "python",
   "pygments_lexer": "ipython3",
   "version": "3.8.11"
  },
  "orig_nbformat": 4
 },
 "nbformat": 4,
 "nbformat_minor": 2
}
