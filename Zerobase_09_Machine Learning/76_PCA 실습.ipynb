{
 "cells": [
  {
   "cell_type": "markdown",
   "metadata": {},
   "source": [
    "# 76. PCA 실습"
   ]
  },
  {
   "cell_type": "code",
   "execution_count": 2,
   "metadata": {},
   "outputs": [
    {
     "data": {
      "text/plain": [
       "(200, 2)"
      ]
     },
     "execution_count": 2,
     "metadata": {},
     "output_type": "execute_result"
    }
   ],
   "source": [
    "import matplotlib.pyplot as plt\n",
    "import seaborn as sns\n",
    "import numpy as np\n",
    "\n",
    "rng = np.random.RandomState(13)\n",
    "X = np.dot(rng.rand(2,2), rng.randn(2, 200)).T\n",
    "X.shape"
   ]
  },
  {
   "cell_type": "code",
   "execution_count": 3,
   "metadata": {},
   "outputs": [
    {
     "data": {
      "text/plain": [
       "array([[0.60735693, 0.79695268],\n",
       "       [0.81266616, 0.26598051]])"
      ]
     },
     "execution_count": 3,
     "metadata": {},
     "output_type": "execute_result"
    }
   ],
   "source": [
    "rng.rand(2,2)\n",
    "        # 2 * 2 로 0 ~ 1 사이의 값을 나타낸것."
   ]
  },
  {
   "cell_type": "code",
   "execution_count": 4,
   "metadata": {},
   "outputs": [
    {
     "data": {
      "text/plain": [
       "array([[-2.23305285e+00,  1.42026788e-01,  7.42047827e-01,\n",
       "         1.11144113e+00,  4.49767208e-01, -1.43039670e+00,\n",
       "         9.42539772e-01, -5.35146593e-01, -4.58967168e-01,\n",
       "         1.15152877e+00, -1.97741771e+00,  2.23864876e+00,\n",
       "         9.00084997e-01,  8.89032373e-01, -1.52296574e-01,\n",
       "         7.04626895e-01,  6.12955068e-01,  2.39663182e-01,\n",
       "        -1.51202147e+00,  4.44697716e-01,  2.53220525e-01,\n",
       "         9.40787068e-01,  4.17302320e-01,  2.69558553e-01,\n",
       "         1.68721062e-01, -1.48895017e+00, -1.85526666e+00,\n",
       "        -1.10321722e-01, -7.04604762e-01,  4.55318527e-01,\n",
       "        -1.22067190e+00, -5.65046518e-01,  7.06188812e-01,\n",
       "         5.04389807e-03, -8.73259179e-01,  5.56018081e-01,\n",
       "         2.67381976e-01, -1.03193483e+00, -6.35903189e-01,\n",
       "         1.99779097e-01, -1.96516643e-01, -2.64890894e-01,\n",
       "        -5.36168707e-01, -2.69395632e+00,  4.81339952e-01,\n",
       "         3.08090862e-01, -1.37528268e-01, -1.80036570e+00,\n",
       "        -4.19985810e-01, -2.85337341e-02, -2.31813179e-01,\n",
       "        -1.16574987e-01, -2.23605378e+00,  5.83327650e-01,\n",
       "         5.42544027e-01,  6.26167294e-01,  1.25712573e+00,\n",
       "         1.82482097e-01,  1.31161805e+00, -1.25486039e+00,\n",
       "         6.35086900e-01, -2.68878502e-01,  1.36137096e+00,\n",
       "        -5.22634761e-01, -5.67239427e-01, -6.84790044e-01,\n",
       "         4.40378911e-01, -8.38480140e-01,  7.99876673e-01,\n",
       "         6.79026683e-01, -1.24056114e-03,  8.13436764e-02,\n",
       "        -6.87147212e-01,  1.83667422e+00,  7.57111274e-01,\n",
       "        -1.20857233e+00,  9.38603470e-01, -1.14668865e+00,\n",
       "         2.30820173e-01,  5.46757911e-01, -4.07616633e-01,\n",
       "        -6.68307894e-01,  2.61439593e-01,  4.68934649e-01,\n",
       "         1.11630272e-01,  2.82990508e-01, -1.46963463e+00,\n",
       "        -1.46369310e-01, -1.08359147e+00, -1.49392755e-04,\n",
       "        -1.15272575e+00, -9.13446285e-01, -1.05266780e+00,\n",
       "        -5.58610558e-01, -4.39333045e-01, -2.85288958e-01,\n",
       "         4.11944127e-01, -1.11143448e+00,  1.41450352e+00,\n",
       "        -5.46264797e-01, -9.55869365e-01,  1.00355283e-01,\n",
       "        -6.17689066e-01, -6.78818584e-01, -1.46446056e-02,\n",
       "        -1.46109084e+00,  7.97169836e-01, -1.57150383e+00,\n",
       "        -8.90214895e-01,  8.56810098e-01,  9.11375164e-01,\n",
       "         1.41289317e-01, -1.61588419e+00, -5.87765419e-01,\n",
       "        -8.05312335e-01, -8.44183759e-01, -5.26068359e-01,\n",
       "         1.69350276e-01,  6.49456896e-01,  3.40310966e-02,\n",
       "        -1.05494225e+00, -1.62184303e-01,  5.41840739e-02,\n",
       "         6.80668136e-01, -7.95929675e-01, -6.52964632e-01,\n",
       "        -8.24271458e-01, -1.29213489e+00,  2.00963954e-01,\n",
       "        -7.27705275e-01,  7.36058078e-01,  6.66016362e-01,\n",
       "        -1.46592507e-01,  7.84876136e-02, -5.39008134e-01,\n",
       "         5.42065313e-02, -3.57154066e-02,  1.00393028e+00,\n",
       "        -5.93639677e-01,  9.41060044e-01,  5.31723566e-01,\n",
       "         2.39581604e-01, -1.26952893e+00, -1.10038694e+00,\n",
       "        -1.24115693e-01,  2.36639806e-02, -1.34017426e+00,\n",
       "         1.61289833e+00,  7.09735272e-02, -2.11415609e-01,\n",
       "         4.47325151e-01, -8.40537000e-01, -2.14908831e+00,\n",
       "        -1.99482026e-01, -7.85549184e-01, -4.93198276e-02,\n",
       "         1.15737227e-01, -1.63264613e+00, -8.37812295e-01,\n",
       "         8.30942743e-01,  1.38509439e+00, -1.10664439e-01,\n",
       "         9.55208343e-02,  3.20066460e-01,  2.71330979e-01,\n",
       "         2.61136547e+00,  1.68349593e+00, -6.14483396e-01,\n",
       "        -2.89462012e-01,  1.17017664e+00,  5.99269524e-01,\n",
       "         9.69662138e-01,  6.92214885e-01, -8.12720294e-01,\n",
       "        -1.21157142e+00, -1.43146871e+00, -6.60382194e-01,\n",
       "         4.44527548e-01, -5.00780656e-01,  2.04414288e+00,\n",
       "        -1.56050531e+00, -2.32763396e-01,  1.06820091e+00,\n",
       "         1.90064788e+00, -9.21571080e-01,  3.18789502e-01,\n",
       "         7.21251946e-01, -1.94975100e+00,  8.14001379e-01,\n",
       "         1.84672351e-01, -3.96357863e-01,  9.83866022e-01,\n",
       "         9.45008750e-02, -7.32815170e-01,  1.35945803e+00,\n",
       "        -6.15533263e-01,  1.29405630e+00, -2.36469608e+00,\n",
       "         9.21435480e-01, -2.92880210e-01],\n",
       "       [ 3.00842716e-01,  1.97455983e-01,  1.03885375e+00,\n",
       "        -8.17754601e-01, -1.64824223e-01, -2.97806801e-01,\n",
       "         5.06356749e-01,  1.64624816e-02,  3.05606840e-01,\n",
       "         3.97888450e-01, -1.64966912e+00, -1.99560288e-01,\n",
       "         1.35946763e-01,  2.47660789e-01,  2.50335405e+00,\n",
       "         8.38073067e-01,  1.33632348e+00, -3.94436100e-01,\n",
       "         8.61722207e-01,  1.84977639e+00, -3.93036293e-01,\n",
       "        -5.70866277e-01, -1.45326656e+00, -1.24957652e+00,\n",
       "         1.72338635e+00, -1.42652393e+00, -5.10073284e-02,\n",
       "         8.23467571e-01,  2.26690772e-01,  3.11882012e-01,\n",
       "        -3.19922578e-02,  1.05272073e+00, -1.36328141e+00,\n",
       "        -3.21705735e-01, -9.37508818e-03, -1.83394600e+00,\n",
       "        -6.85057762e-01, -1.50994569e-01,  1.54820020e+00,\n",
       "        -5.92315288e-01,  1.21323643e+00, -6.72938621e-01,\n",
       "         1.70564212e+00, -3.74813148e-01,  1.08247896e+00,\n",
       "         2.96625010e+00,  1.02223867e+00,  1.49168746e+00,\n",
       "        -1.02714921e+00,  6.07508601e-01,  7.67850738e-01,\n",
       "        -1.55134983e-01,  3.07113282e-01, -1.06965201e+00,\n",
       "        -4.43504931e-01, -1.21319955e+00, -1.50203602e+00,\n",
       "         7.49678338e-01, -7.97706939e-01,  3.35726598e-01,\n",
       "         1.87034991e+00,  1.11092744e+00, -6.14746320e-01,\n",
       "        -2.42200455e-01, -6.39743052e-01,  1.51465976e-02,\n",
       "         1.72801106e+00,  1.64213363e+00, -5.02298400e-01,\n",
       "        -1.35530114e+00,  1.06972630e+00, -2.28045983e+00,\n",
       "         5.91511053e-01, -2.27102844e+00,  4.28214351e-01,\n",
       "         2.29010774e-01, -4.20549769e-01, -1.11277810e+00,\n",
       "         5.54097034e-01,  4.56717699e-01,  1.56357772e-01,\n",
       "         2.36567356e+00, -2.28760153e-01, -5.18327757e-01,\n",
       "         1.44651439e+00,  3.10186354e+00, -6.02197756e-01,\n",
       "        -1.60332001e-01, -4.35208047e-01,  3.25532267e-01,\n",
       "         8.42312886e-01, -6.90849771e-01, -2.05874254e-01,\n",
       "        -9.17682335e-01,  2.36716247e-01, -2.38608713e-01,\n",
       "         4.27667145e-01, -2.06793935e-01,  1.80081739e-01,\n",
       "        -1.62987848e+00, -5.97141127e-01, -3.95427389e-01,\n",
       "         2.08494646e-01, -1.05168451e+00, -5.15534346e-01,\n",
       "         9.92559757e-01,  4.53790011e-01, -6.36976867e-01,\n",
       "        -8.23757040e-03, -3.20567598e-01,  2.48745689e-01,\n",
       "        -2.76742487e-01, -9.28702594e-01,  1.24654859e-01,\n",
       "        -1.51960178e+00,  6.69508435e-01,  9.89811258e-01,\n",
       "         8.90915265e-01, -1.36464534e+00, -1.22889548e-01,\n",
       "         8.66296247e-01,  2.47217953e-01,  3.33877316e-01,\n",
       "         1.73174617e-01,  8.23953492e-01, -1.24553385e-01,\n",
       "        -1.59233117e+00,  3.23534715e-01,  2.19932045e+00,\n",
       "         7.61722094e-01,  6.64623054e-01,  2.00428782e+00,\n",
       "        -7.16092399e-01, -9.50646987e-01, -3.61980474e-01,\n",
       "         5.11460403e-01,  1.85350563e+00,  1.15074603e+00,\n",
       "         9.51265502e-03,  1.52013342e+00,  3.79428274e-01,\n",
       "         3.77504076e-01, -9.91891778e-02, -8.43581932e-01,\n",
       "        -1.53782361e-01, -9.11377389e-01, -2.01335975e+00,\n",
       "        -7.64447248e-01,  1.39847697e+00, -2.12745857e-01,\n",
       "        -1.36346096e+00,  2.01401501e-01,  2.43851007e+00,\n",
       "        -4.98543951e-02,  2.53351502e+00,  6.23685545e-01,\n",
       "        -1.98584416e+00,  4.05738002e-01,  2.20848074e+00,\n",
       "         5.87106145e-01, -1.09684594e+00,  4.84118420e-01,\n",
       "         1.41586495e+00, -1.46701169e+00,  2.30402823e-01,\n",
       "         4.31946895e-01,  1.17817058e+00, -2.89035009e-01,\n",
       "        -7.72677752e-01,  7.32170705e-01,  4.29672594e-01,\n",
       "         4.28538597e-02, -3.85417811e-01,  9.36653219e-01,\n",
       "        -4.10707743e-01,  2.30578448e+00, -2.59459380e-01,\n",
       "         1.37564914e+00,  1.16457816e+00,  5.29927826e-01,\n",
       "        -5.24738481e-02,  1.20349223e+00,  2.02473172e-01,\n",
       "        -8.07229525e-01,  1.84310482e-01,  5.02355940e-01,\n",
       "        -1.66255235e+00,  1.19085839e+00, -1.81929933e+00,\n",
       "         2.99991138e-01, -3.44396204e-02, -1.67487456e+00,\n",
       "        -1.89409739e-01, -1.00886454e+00,  4.15190466e-01,\n",
       "        -6.18282384e-01,  2.62568229e-01,  3.96449918e-01,\n",
       "         1.14781205e+00, -8.45186532e-01]])"
      ]
     },
     "execution_count": 4,
     "metadata": {},
     "output_type": "execute_result"
    }
   ],
   "source": [
    "rng.randn(2, 200)\n",
    "        # 표준편차가 1, 평균이 0인 정규분포\n",
    "        # 표준 정규분포를 2 * 200으로 나타낸 것."
   ]
  },
  {
   "cell_type": "code",
   "execution_count": 10,
   "metadata": {},
   "outputs": [
    {
     "data": {
      "text/plain": [
       "array([[-2.18026492e-01, -3.09688965e-01],\n",
       "       [-3.18775296e-01, -4.54085117e-01],\n",
       "       [ 2.72320041e-02,  3.17380110e-02],\n",
       "       [-7.87061384e-01, -1.13057604e+00],\n",
       "       [ 6.59317981e-01,  9.38089215e-01],\n",
       "       [-2.83183484e-02, -4.48374529e-02],\n",
       "       [ 7.15935328e-01,  1.01975684e+00],\n",
       "       [-3.35766950e-01, -4.73746675e-01],\n",
       "       [-1.51382031e-01, -2.15894825e-01],\n",
       "       [ 5.20148253e-01,  7.42821904e-01],\n",
       "       [ 3.60436140e-01,  5.17815888e-01],\n",
       "       [ 2.87761264e-01,  4.09020124e-01],\n",
       "       [ 1.13988748e+00,  1.61776592e+00],\n",
       "       [ 2.23618510e-02,  2.85159822e-02],\n",
       "       [ 3.78480864e-01,  5.35904490e-01],\n",
       "       [-1.85557469e-01, -2.57215851e-01],\n",
       "       [-8.71105155e-01, -1.22045282e+00],\n",
       "       [ 6.62699876e-01,  9.38227190e-01],\n",
       "       [ 6.78371819e-02,  8.67056267e-02],\n",
       "       [ 3.82112444e-01,  5.44553063e-01],\n",
       "       [ 6.73421755e-04,  1.40728580e-03],\n",
       "       [ 4.76768437e-01,  6.69696373e-01],\n",
       "       [-6.00389848e-02, -8.02142593e-02],\n",
       "       [ 2.18487545e-01,  3.10612014e-01],\n",
       "       [ 1.43573249e-01,  1.97112575e-01],\n",
       "       [ 2.35990998e-01,  3.22642675e-01],\n",
       "       [ 3.87982388e-01,  5.53782347e-01],\n",
       "       [-3.60458494e-01, -5.03601997e-01],\n",
       "       [ 3.12500925e-01,  4.39023523e-01],\n",
       "       [-1.76558958e-01, -2.62364237e-01],\n",
       "       [-6.41510223e-02, -9.61069569e-02],\n",
       "       [-9.47865469e-01, -1.34483462e+00],\n",
       "       [-2.67800602e-01, -3.85822648e-01],\n",
       "       [-5.67706207e-01, -7.99447587e-01],\n",
       "       [-4.05648904e-02, -5.50256637e-02],\n",
       "       [ 8.43447814e-01,  1.18700887e+00],\n",
       "       [ 6.11607002e-01,  8.70687918e-01],\n",
       "       [ 5.02636028e-01,  7.08574721e-01],\n",
       "       [ 4.03066770e-01,  5.62674881e-01],\n",
       "       [ 9.83217409e-01,  1.41448178e+00],\n",
       "       [-1.68860860e-02, -2.15415331e-02],\n",
       "       [-4.16959891e-01, -5.82055641e-01],\n",
       "       [ 2.57544815e-01,  3.65391199e-01],\n",
       "       [-2.99666832e-01, -4.23255847e-01],\n",
       "       [ 7.12416210e-01,  9.97720298e-01],\n",
       "       [-4.71418431e-01, -6.70100788e-01],\n",
       "       [-8.37804403e-01, -1.19549353e+00],\n",
       "       [ 5.16401875e-01,  7.39546716e-01],\n",
       "       [-1.01390720e+00, -1.42736350e+00],\n",
       "       [-8.21717839e-01, -1.16277807e+00],\n",
       "       [ 7.27074149e-01,  1.02623478e+00],\n",
       "       [-1.29467349e-01, -1.77211198e-01],\n",
       "       [ 1.08014797e+00,  1.53686576e+00],\n",
       "       [ 3.19769900e-01,  4.42942468e-01],\n",
       "       [-1.49371270e-01, -2.15427748e-01],\n",
       "       [-2.78283014e-01, -3.96826726e-01],\n",
       "       [-5.43893566e-01, -7.64100808e-01],\n",
       "       [ 8.87208465e-01,  1.26241753e+00],\n",
       "       [-5.58375133e-02, -6.77390057e-02],\n",
       "       [ 1.29276621e-01,  1.78083035e-01],\n",
       "       [ 2.27711669e-01,  3.19477777e-01],\n",
       "       [-5.72973047e-01, -8.11528986e-01],\n",
       "       [ 4.66409833e-02,  5.44712205e-02],\n",
       "       [ 5.36325709e-01,  7.64404986e-01],\n",
       "       [ 7.16732202e-01,  1.02214868e+00],\n",
       "       [ 2.56411101e-01,  3.65795936e-01],\n",
       "       [ 5.84010039e-01,  8.26114804e-01],\n",
       "       [ 9.91382001e-01,  1.40422517e+00],\n",
       "       [-2.84604779e-01, -4.05941618e-01],\n",
       "       [-5.95203980e-01, -8.37249984e-01],\n",
       "       [-4.74105605e-01, -6.69750542e-01],\n",
       "       [-4.50595851e-01, -6.32999444e-01],\n",
       "       [ 1.12794616e+00,  1.61418413e+00],\n",
       "       [ 1.43447444e-02,  2.02037076e-02],\n",
       "       [-4.99262111e-01, -7.13526732e-01],\n",
       "       [-1.24743071e-01, -1.84211083e-01],\n",
       "       [ 1.00120905e+00,  1.42439575e+00],\n",
       "       [-2.52876315e-01, -3.68286385e-01],\n",
       "       [-5.86066361e-02, -7.29706515e-02],\n",
       "       [ 3.59224271e-02,  4.69525770e-02],\n",
       "       [-1.84159133e-01, -2.65451607e-01],\n",
       "       [ 4.07680350e-01,  5.76909965e-01],\n",
       "       [ 5.74084964e-01,  8.09379209e-01],\n",
       "       [ 2.45294284e-01,  3.51911084e-01],\n",
       "       [-1.02073309e-01, -1.33707117e-01],\n",
       "       [-5.92410811e-01, -8.47862433e-01],\n",
       "       [-2.56823554e-01, -3.68949690e-01],\n",
       "       [-2.27019878e-01, -3.05211379e-01],\n",
       "       [-1.59852635e-01, -2.36645592e-01],\n",
       "       [-1.36621663e-01, -2.02697859e-01],\n",
       "       [-1.20529899e-01, -1.75343276e-01],\n",
       "       [-4.58839015e-01, -6.57311351e-01],\n",
       "       [ 2.89599517e-01,  4.11233119e-01],\n",
       "       [ 9.30870660e-01,  1.32053164e+00],\n",
       "       [ 8.29715245e-01,  1.17771705e+00],\n",
       "       [ 3.69796959e-01,  5.16044013e-01],\n",
       "       [ 4.02331755e-01,  5.66575226e-01],\n",
       "       [-6.53932604e-02, -1.04718973e-01],\n",
       "       [-1.30321375e+00, -1.84932801e+00],\n",
       "       [ 2.51651794e-01,  3.57129417e-01],\n",
       "       [ 4.77764108e-01,  6.73463892e-01],\n",
       "       [ 8.15063990e-01,  1.16195921e+00],\n",
       "       [ 7.58385505e-02,  9.46209872e-02],\n",
       "       [-7.04301683e-03, -2.08736509e-03],\n",
       "       [ 2.77943099e-01,  3.93147943e-01],\n",
       "       [-9.09507540e-02, -1.26695404e-01],\n",
       "       [-3.98746689e-01, -5.62661773e-01],\n",
       "       [ 2.44475282e-01,  3.51368914e-01],\n",
       "       [-7.46911205e-01, -1.05894074e+00],\n",
       "       [-3.98221772e-01, -5.57913960e-01],\n",
       "       [-1.98731162e-01, -2.84069894e-01],\n",
       "       [-3.76695762e-01, -5.45524791e-01],\n",
       "       [-8.16115299e-01, -1.16688392e+00],\n",
       "       [-7.56739376e-01, -1.06512737e+00],\n",
       "       [-9.11609645e-01, -1.28987715e+00],\n",
       "       [ 3.33203242e-01,  4.72935513e-01],\n",
       "       [ 5.95821332e-01,  8.39621359e-01],\n",
       "       [ 3.14526992e-01,  4.42071584e-01],\n",
       "       [-1.91555137e-03, -1.82100197e-03],\n",
       "       [-6.63185340e-01, -9.57396085e-01],\n",
       "       [-7.45437128e-01, -1.06805998e+00],\n",
       "       [ 5.48298804e-02,  7.23901199e-02],\n",
       "       [-2.53362359e-01, -3.63683680e-01],\n",
       "       [-1.36909790e+00, -1.94798148e+00],\n",
       "       [ 2.19390770e-01,  3.09494086e-01],\n",
       "       [-1.11526620e+00, -1.57635064e+00],\n",
       "       [-9.49567363e-01, -1.35066335e+00],\n",
       "       [-1.31505513e+00, -1.86707881e+00],\n",
       "       [ 1.51842458e+00,  2.16255579e+00],\n",
       "       [-5.44686014e-01, -7.74654886e-01],\n",
       "       [ 3.78612093e-01,  5.37214631e-01],\n",
       "       [-6.97673857e-01, -1.00000363e+00],\n",
       "       [ 1.57280156e+00,  2.22508811e+00],\n",
       "       [ 2.02613654e-01,  2.92999335e-01],\n",
       "       [ 4.24415328e-01,  6.07146814e-01],\n",
       "       [ 9.23108173e-02,  1.44104700e-01],\n",
       "       [ 2.30377020e-02,  3.22074182e-02],\n",
       "       [-3.35158995e-01, -4.75642662e-01],\n",
       "       [-2.18345636e+00, -3.09525937e+00],\n",
       "       [-6.11826242e-02, -7.28357494e-02],\n",
       "       [ 1.29130373e+00,  1.81877724e+00],\n",
       "       [-1.97518855e-01, -2.85322714e-01],\n",
       "       [-7.96742469e-01, -1.13644045e+00],\n",
       "       [-6.11057403e-01, -8.59358208e-01],\n",
       "       [-1.41114848e-01, -1.94346400e-01],\n",
       "       [-2.23915757e-01, -3.14364997e-01],\n",
       "       [-5.80960417e-01, -8.29171767e-01],\n",
       "       [-2.61368446e-02, -4.22456638e-02],\n",
       "       [ 3.29318097e-01,  4.72263729e-01],\n",
       "       [-7.06117551e-01, -1.02164674e+00],\n",
       "       [ 9.60822762e-02,  1.24785542e-01],\n",
       "       [-7.30975802e-01, -1.03283239e+00],\n",
       "       [-1.38418195e-01, -2.03178434e-01],\n",
       "       [ 2.38079168e-01,  3.42066755e-01],\n",
       "       [ 6.23989743e-01,  8.83478793e-01],\n",
       "       [-1.06137035e+00, -1.50654761e+00],\n",
       "       [ 1.48049887e-01,  2.11236387e-01],\n",
       "       [-2.86215609e-01, -4.11517506e-01],\n",
       "       [ 4.19655940e-02,  6.13826596e-02],\n",
       "       [ 8.76129080e-01,  1.24463678e+00],\n",
       "       [-1.18641877e+00, -1.68511990e+00],\n",
       "       [-1.19414547e+00, -1.70591872e+00],\n",
       "       [ 4.00496456e-01,  5.61124590e-01],\n",
       "       [-4.87970281e-01, -6.87947550e-01],\n",
       "       [-1.78967083e-01, -2.55571994e-01],\n",
       "       [ 2.75873576e-01,  3.90801059e-01],\n",
       "       [-4.97479681e-01, -6.91179468e-01],\n",
       "       [-4.60900831e-01, -6.55616981e-01],\n",
       "       [ 1.52688995e+00,  2.15772770e+00],\n",
       "       [-4.64645218e-01, -6.58702884e-01],\n",
       "       [-4.68623078e-01, -6.63333453e-01],\n",
       "       [-2.51147820e-03, -6.72082550e-03],\n",
       "       [-4.84000941e-02, -7.57727667e-02],\n",
       "       [-4.99786392e-01, -7.12026361e-01],\n",
       "       [ 5.38022793e-01,  7.70682876e-01],\n",
       "       [ 3.73867168e-01,  5.34915379e-01],\n",
       "       [ 6.55460940e-02,  9.91935115e-02],\n",
       "       [-4.22463648e-01, -6.14259168e-01],\n",
       "       [-1.50745268e-01, -2.11976760e-01],\n",
       "       [-4.39533775e-01, -6.19190919e-01],\n",
       "       [-9.93697968e-01, -1.41009592e+00],\n",
       "       [-1.13776209e-01, -1.73118530e-01],\n",
       "       [ 5.54907245e-01,  7.90835354e-01],\n",
       "       [ 1.53687760e-02,  2.46127130e-02],\n",
       "       [-7.93797101e-01, -1.12928415e+00],\n",
       "       [-7.90555217e-01, -1.12642953e+00],\n",
       "       [ 3.77493220e-01,  5.39822000e-01],\n",
       "       [-6.70719688e-01, -9.50130876e-01],\n",
       "       [-1.20559318e-01, -1.64547707e-01],\n",
       "       [-3.60100531e-01, -5.07364766e-01],\n",
       "       [ 7.61236627e-01,  1.07013897e+00],\n",
       "       [ 3.73517451e-01,  5.38638951e-01],\n",
       "       [ 9.91275131e-02,  1.44101221e-01],\n",
       "       [ 3.52055164e-01,  4.94282797e-01],\n",
       "       [-3.91016278e-01, -5.45726917e-01],\n",
       "       [ 4.69162801e-03,  7.19449703e-03],\n",
       "       [ 3.18613975e-01,  4.47720538e-01],\n",
       "       [ 1.96201507e-01,  2.70000235e-01],\n",
       "       [ 7.01265284e-01,  9.88487179e-01],\n",
       "       [ 1.11780206e-01,  1.72210726e-01]])"
      ]
     },
     "execution_count": 10,
     "metadata": {},
     "output_type": "execute_result"
    }
   ],
   "source": [
    "np.dot(rng.rand(2,2), rng.randn(2,200)).T\n",
    "                                        # Transpose"
   ]
  },
  {
   "cell_type": "code",
   "execution_count": 13,
   "metadata": {},
   "outputs": [
    {
     "data": {
      "image/png": "[encoded data removed]",
      "text/plain": [
       "<Figure size 432x288 with 1 Axes>"
      ]
     },
     "metadata": {
      "needs_background": "light"
     },
     "output_type": "display_data"
    }
   ],
   "source": [
    "plt.scatter(X[:,0],X[:,1])\n",
    "plt.axis('equal')\n",
    "        # x 축 y축의 간격을 동일하게\n",
    "plt.show()"
   ]
  },
  {
   "cell_type": "markdown",
   "metadata": {},
   "source": [
    "# fit"
   ]
  },
  {
   "cell_type": "code",
   "execution_count": 14,
   "metadata": {},
   "outputs": [
    {
     "data": {
      "text/plain": [
       "PCA(n_components=2, random_state=13)"
      ]
     },
     "execution_count": 14,
     "metadata": {},
     "output_type": "execute_result"
    }
   ],
   "source": [
    "from sklearn.decomposition import PCA\n",
    "\n",
    "pca = PCA(n_components=2, random_state=13)\n",
    "pca.fit(X)"
   ]
  },
  {
   "cell_type": "code",
   "execution_count": 15,
   "metadata": {},
   "outputs": [
    {
     "data": {
      "text/plain": [
       "array([[ 0.47802511,  0.87834617],\n",
       "       [-0.87834617,  0.47802511]])"
      ]
     },
     "execution_count": 15,
     "metadata": {},
     "output_type": "execute_result"
    }
   ],
   "source": [
    "# 벡터와 분산값\n",
    "pca.components_\n",
    "\n",
    "## 벡터가 2개만 나오는 이유는 n_components를 2로 설정했기 때문."
   ]
  },
  {
   "cell_type": "code",
   "execution_count": 16,
   "metadata": {},
   "outputs": [
    {
     "data": {
      "text/plain": [
       "array([1.82531406, 0.13209947])"
      ]
     },
     "execution_count": 16,
     "metadata": {},
     "output_type": "execute_result"
    }
   ],
   "source": [
    "pca.explained_variance_\n",
    "\n",
    "## 두개 벡터의 설명력을 알려주는 것. \n",
    "## 값이 높으면 설명을 잘 한것이다."
   ]
  },
  {
   "cell_type": "code",
   "execution_count": 17,
   "metadata": {},
   "outputs": [
    {
     "data": {
      "text/plain": [
       "array([0.93251326, 0.06748674])"
      ]
     },
     "execution_count": 17,
     "metadata": {},
     "output_type": "execute_result"
    }
   ],
   "source": [
    "pca.explained_variance_ratio_\n",
    "\n",
    "## 1번 요소가 93퍼센트 / 2번째가 6퍼센트를 설명한다."
   ]
  },
  {
   "cell_type": "code",
   "execution_count": 20,
   "metadata": {},
   "outputs": [
    {
     "data": {
      "text/plain": [
       "array([-0.03360413, -0.03527382])"
      ]
     },
     "execution_count": 20,
     "metadata": {},
     "output_type": "execute_result"
    }
   ],
   "source": [
    "pca.mean_\n",
    "    # 좌표의 중심점. "
   ]
  },
  {
   "cell_type": "code",
   "execution_count": 41,
   "metadata": {},
   "outputs": [],
   "source": [
    "## 주성분 벡터 그리기\n",
    "def draw_vector(v0, v1, ax=None):\n",
    "    ax = ax or plt.gca()\n",
    "                # ax가 None일 때\n",
    "        # ax의 값이 있을 때\n",
    "    arrowprops = dict(\n",
    "        arrowstyle = '->',\n",
    "        linewidth=2,\n",
    "        color='black',\n",
    "        shrinkA=0,\n",
    "        # 수축, 기준 점에서 얼마나 멀어지게 만드는지\n",
    "        shrinkB=0,\n",
    "    )\n",
    "\n",
    "    # annotate docu : https://matplotlib.org/3.5.0/api/_as_gen/matplotlib.pyplot.annotate.html?highlight=annotate#matplotlib.pyplot.annotate\n",
    "    ax.annotate('', v1, v0, arrowprops=arrowprops)\n",
    "        # 화살표 그리는 기능\n",
    "                # 화살표의 이름\n",
    "\n",
    "                            # arrowprops : 화살표의 성질을 dict 형식으로 받음.\n"
   ]
  },
  {
   "cell_type": "code",
   "execution_count": 42,
   "metadata": {},
   "outputs": [
    {
     "data": {
      "image/png": "[encoded data removed]",
      "text/plain": [
       "<Figure size 432x288 with 1 Axes>"
      ]
     },
     "metadata": {
      "needs_background": "light"
     },
     "output_type": "display_data"
    }
   ],
   "source": [
    "plt.scatter(X[:,0], X[:,1], alpha=0.4)\n",
    "\n",
    "for length, vector in zip(pca.explained_variance_, pca.components_):\n",
    "    v = vector * 3 * np.sqrt(length)\n",
    "                # 임의로 넣었음\n",
    "                    # length에 루트를 \n",
    "    draw_vector(pca.mean_, pca.mean_ + v)\n",
    "\n",
    "plt.axis('equal')\n",
    "plt.show()\n",
    "\n",
    "## 벡터로 설명할 수 있다.(?)"
   ]
  },
  {
   "cell_type": "code",
   "execution_count": 43,
   "metadata": {},
   "outputs": [
    {
     "data": {
      "text/plain": [
       "PCA(n_components=1, random_state=13)"
      ]
     },
     "execution_count": 43,
     "metadata": {},
     "output_type": "execute_result"
    }
   ],
   "source": [
    "# component_  = 1로 설정 \n",
    "\n",
    "pca = PCA(n_components=1, random_state=13)\n",
    "pca.fit(X)"
   ]
  },
  {
   "cell_type": "code",
   "execution_count": 44,
   "metadata": {},
   "outputs": [
    {
     "data": {
      "text/plain": [
       "array([[0.47802511, 0.87834617]])"
      ]
     },
     "execution_count": 44,
     "metadata": {},
     "output_type": "execute_result"
    }
   ],
   "source": [
    "pca.components_"
   ]
  },
  {
   "cell_type": "code",
   "execution_count": 46,
   "metadata": {},
   "outputs": [
    {
     "data": {
      "text/plain": [
       "array([-0.03360413, -0.03527382])"
      ]
     },
     "execution_count": 46,
     "metadata": {},
     "output_type": "execute_result"
    }
   ],
   "source": [
    "pca.mean_       # 좌표 원점"
   ]
  },
  {
   "cell_type": "code",
   "execution_count": 47,
   "metadata": {},
   "outputs": [
    {
     "data": {
      "text/plain": [
       "array([0.93251326])"
      ]
     },
     "execution_count": 47,
     "metadata": {},
     "output_type": "execute_result"
    }
   ],
   "source": [
    "pca.explained_variance_ratio_"
   ]
  },
  {
   "cell_type": "code",
   "execution_count": 50,
   "metadata": {},
   "outputs": [
    {
     "data": {
      "text/plain": [
       "(200, 1)"
      ]
     },
     "execution_count": 50,
     "metadata": {},
     "output_type": "execute_result"
    }
   ],
   "source": [
    "X_pca = pca.transform(X)\n",
    "X_pca.shape       # 1개의 컴포넌트로 변경함"
   ]
  },
  {
   "cell_type": "code",
   "execution_count": 52,
   "metadata": {},
   "outputs": [
    {
     "data": {
      "image/png": "[encoded data removed]",
      "text/plain": [
       "<Figure size 432x288 with 1 Axes>"
      ]
     },
     "metadata": {
      "needs_background": "light"
     },
     "output_type": "display_data"
    }
   ],
   "source": [
    "X_new = pca.inverse_transform(X_pca)\n",
    "            # 2 차원으로 바꿔주는 것.\n",
    "# X_new.shape\n",
    "plt.scatter(X[:,0],X[:,1], alpha=0.3)\n",
    "plt.scatter(X_new[:,0],X_new[:,1], alpha=0.9)\n",
    "plt.axis('equal')\n",
    "plt.show()\n",
    "\n",
    "## 2차원 데이터를 pca 를 통해 1차원 (X_pca)로 바꾸고 다시 2차원으로 바꿨다(X_new)"
   ]
  },
  {
   "cell_type": "code",
   "execution_count": null,
   "metadata": {},
   "outputs": [],
   "source": []
  }
 ],
 "metadata": {
  "interpreter": {
   "hash": "87ca1d6ab9f465f53e65f605edcd7bd5e587820eac99c13303a6570f5c29f59a"
  },
  "kernelspec": {
   "display_name": "Python 3.8.11 ('ds_study')",
   "language": "python",
   "name": "python3"
  },
  "language_info": {
   "codemirror_mode": {
    "name": "ipython",
    "version": 3
   },
   "file_extension": ".py",
   "mimetype": "text/x-python",
   "name": "python",
   "nbconvert_exporter": "python",
   "pygments_lexer": "ipython3",
   "version": "3.8.11"
  },
  "orig_nbformat": 4
 },
 "nbformat": 4,
 "nbformat_minor": 2
}
